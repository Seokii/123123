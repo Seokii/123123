{
 "cells": [
  {
   "cell_type": "code",
   "execution_count": 1,
   "id": "2236ccff",
   "metadata": {},
   "outputs": [],
   "source": [
    "import os\n",
    "import numpy as np\n",
    "import pandas as pd\n",
    "import seaborn as sns\n",
    "import matplotlib.pyplot as plt\n",
    "\n",
    "import tensorflow as tf\n",
    "from tensorflow.keras.layers import Dense,Input\n",
    "from tensorflow.keras.models import Model\n",
    "from tensorflow.keras.optimizers import Adam\n",
    "\n",
    "from transformers import TFElectraModel\n",
    "from transformers import ElectraTokenizer\n",
    "\n",
    "from sklearn.preprocessing import LabelEncoder\n",
    "from sklearn.model_selection import train_test_split\n",
    "from sklearn.metrics import accuracy_score"
   ]
  },
  {
   "cell_type": "code",
   "execution_count": 2,
   "id": "6c0290ac",
   "metadata": {},
   "outputs": [],
   "source": [
    "strategy = tf.distribute.get_strategy()"
   ]
  },
  {
   "cell_type": "code",
   "execution_count": 3,
   "id": "895dd7d9",
   "metadata": {},
   "outputs": [],
   "source": [
    "train = pd.read_csv('data/train.csv')\n",
    "test = pd.read_csv('data/test_cat1_result.csv')"
   ]
  },
  {
   "cell_type": "code",
   "execution_count": 4,
   "id": "f5c2c2ab",
   "metadata": {},
   "outputs": [],
   "source": [
    "train_1 = train[train['cat1']=='자연']\n",
    "train_2 = train[train['cat1']=='레포츠']\n",
    "train_3 = train[train['cat1']=='음식']\n",
    "train_4 = train[train['cat1']=='인문(문화/예술/역사)']\n",
    "train_5 = train[train['cat1']=='숙박']\n",
    "train_6 = train[train['cat1']=='쇼핑']"
   ]
  },
  {
   "cell_type": "code",
   "execution_count": 5,
   "id": "08da9548",
   "metadata": {},
   "outputs": [
    {
     "data": {
      "text/html": [
       "<div>\n",
       "<style scoped>\n",
       "    .dataframe tbody tr th:only-of-type {\n",
       "        vertical-align: middle;\n",
       "    }\n",
       "\n",
       "    .dataframe tbody tr th {\n",
       "        vertical-align: top;\n",
       "    }\n",
       "\n",
       "    .dataframe thead th {\n",
       "        text-align: right;\n",
       "    }\n",
       "</style>\n",
       "<table border=\"1\" class=\"dataframe\">\n",
       "  <thead>\n",
       "    <tr style=\"text-align: right;\">\n",
       "      <th></th>\n",
       "      <th>id</th>\n",
       "      <th>img_path</th>\n",
       "      <th>overview</th>\n",
       "      <th>cat1_result</th>\n",
       "    </tr>\n",
       "  </thead>\n",
       "  <tbody>\n",
       "    <tr>\n",
       "      <th>0</th>\n",
       "      <td>TEST_00000</td>\n",
       "      <td>./image/test/TEST_00000.jpg</td>\n",
       "      <td>신선한 재료로 정성을 다해 만들었다. 늘 변함없는 맛과 서비스로 모실것을 약속한다.</td>\n",
       "      <td>음식</td>\n",
       "    </tr>\n",
       "    <tr>\n",
       "      <th>1</th>\n",
       "      <td>TEST_00001</td>\n",
       "      <td>./image/test/TEST_00001.jpg</td>\n",
       "      <td>청청한 해역 등량만과 율포해수욕장이 한눈에 내려다 보이는 위치에 있으며, 막 잡은 ...</td>\n",
       "      <td>음식</td>\n",
       "    </tr>\n",
       "    <tr>\n",
       "      <th>2</th>\n",
       "      <td>TEST_00002</td>\n",
       "      <td>./image/test/TEST_00002.jpg</td>\n",
       "      <td>장터설렁탕은 남녀노소 누구나 즐길 수 있는 전통 건강식으로 좋은 재료와 전통 조리방...</td>\n",
       "      <td>음식</td>\n",
       "    </tr>\n",
       "    <tr>\n",
       "      <th>3</th>\n",
       "      <td>TEST_00003</td>\n",
       "      <td>./image/test/TEST_00003.jpg</td>\n",
       "      <td>다양한 형태의 청소년수련활동을 제공함으로써 청소년들이 민주사회의 주역이 될 수 있도...</td>\n",
       "      <td>레포츠</td>\n",
       "    </tr>\n",
       "    <tr>\n",
       "      <th>4</th>\n",
       "      <td>TEST_00004</td>\n",
       "      <td>./image/test/TEST_00004.jpg</td>\n",
       "      <td>팔공산은 경산시의 북쪽에 위치한 해발 1192.3 m의 높은 산으로 신라시대에는 중...</td>\n",
       "      <td>자연</td>\n",
       "    </tr>\n",
       "  </tbody>\n",
       "</table>\n",
       "</div>"
      ],
      "text/plain": [
       "           id                     img_path  \\\n",
       "0  TEST_00000  ./image/test/TEST_00000.jpg   \n",
       "1  TEST_00001  ./image/test/TEST_00001.jpg   \n",
       "2  TEST_00002  ./image/test/TEST_00002.jpg   \n",
       "3  TEST_00003  ./image/test/TEST_00003.jpg   \n",
       "4  TEST_00004  ./image/test/TEST_00004.jpg   \n",
       "\n",
       "                                            overview cat1_result  \n",
       "0     신선한 재료로 정성을 다해 만들었다. 늘 변함없는 맛과 서비스로 모실것을 약속한다.          음식  \n",
       "1  청청한 해역 등량만과 율포해수욕장이 한눈에 내려다 보이는 위치에 있으며, 막 잡은 ...          음식  \n",
       "2  장터설렁탕은 남녀노소 누구나 즐길 수 있는 전통 건강식으로 좋은 재료와 전통 조리방...          음식  \n",
       "3  다양한 형태의 청소년수련활동을 제공함으로써 청소년들이 민주사회의 주역이 될 수 있도...         레포츠  \n",
       "4  팔공산은 경산시의 북쪽에 위치한 해발 1192.3 m의 높은 산으로 신라시대에는 중...          자연  "
      ]
     },
     "execution_count": 5,
     "metadata": {},
     "output_type": "execute_result"
    }
   ],
   "source": [
    "test.head()"
   ]
  },
  {
   "cell_type": "code",
   "execution_count": 6,
   "id": "ab4df957",
   "metadata": {},
   "outputs": [],
   "source": [
    "test_1 = test[test['cat1_result']=='자연']\n",
    "test_2 = test[test['cat1_result']=='레포츠']\n",
    "test_3 = test[test['cat1_result']=='음식']\n",
    "test_4 = test[test['cat1_result']=='인문(문화/예술/역사)']\n",
    "test_5 = test[test['cat1_result']=='숙박']\n",
    "test_6 = test[test['cat1_result']=='쇼핑']"
   ]
  },
  {
   "cell_type": "code",
   "execution_count": 7,
   "id": "2b81f500",
   "metadata": {},
   "outputs": [],
   "source": [
    "electra_tokenizer = ElectraTokenizer.from_pretrained(\"monologg/koelectra-base-v3-discriminator\")"
   ]
  },
  {
   "cell_type": "code",
   "execution_count": 6,
   "id": "5ebd27d7",
   "metadata": {},
   "outputs": [],
   "source": [
    "def cat3_1():\n",
    "    with strategy.scope():\n",
    "        encoder = TFElectraModel.from_pretrained(\"monologg/koelectra-base-v3-discriminator\", from_pt=True)\n",
    "\n",
    "        input_layer = Input(shape=(650,), dtype=tf.int32, name=\"input_layer\")\n",
    "        sequence_output = encoder(input_layer)[0]\n",
    "\n",
    "        cls_token = sequence_output[:, 0, :]\n",
    "\n",
    "        output_layer = Dense(20, activation='softmax')(cls_token)\n",
    "\n",
    "        model = Model(inputs=input_layer, outputs=output_layer)\n",
    "        model.compile(Adam(lr=1e-5), loss='sparse_categorical_crossentropy', metrics=['accuracy'])\n",
    "    \n",
    "    return model"
   ]
  },
  {
   "cell_type": "code",
   "execution_count": 7,
   "id": "16a0bb96",
   "metadata": {
    "scrolled": true
   },
   "outputs": [
    {
     "name": "stderr",
     "output_type": "stream",
     "text": [
      "Some weights of the PyTorch model were not used when initializing the TF 2.0 model TFElectraModel: ['electra.embeddings.position_ids', 'discriminator_predictions.dense.bias', 'discriminator_predictions.dense.weight', 'discriminator_predictions.dense_prediction.bias', 'discriminator_predictions.dense_prediction.weight']\n",
      "- This IS expected if you are initializing TFElectraModel from a PyTorch model trained on another task or with another architecture (e.g. initializing a TFBertForSequenceClassification model from a BertForPreTraining model).\n",
      "- This IS NOT expected if you are initializing TFElectraModel from a PyTorch model that you expect to be exactly identical (e.g. initializing a TFBertForSequenceClassification model from a BertForSequenceClassification model).\n",
      "All the weights of TFElectraModel were initialized from the PyTorch model.\n",
      "If your task is similar to the task the model of the checkpoint was trained on, you can already use TFElectraModel for predictions without further training.\n"
     ]
    },
    {
     "name": "stdout",
     "output_type": "stream",
     "text": [
      "WARNING:tensorflow:AutoGraph could not transform <function input_processing at 0x000002C68CDC8F70> and will run it as-is.\n",
      "Please report this to the TensorFlow team. When filing the bug, set the verbosity to 10 (on Linux, `export AUTOGRAPH_VERBOSITY=10`) and attach the full output.\n",
      "Cause: '<' not supported between instances of 'Literal' and 'str'\n",
      "To silence this warning, decorate the function with @tf.autograph.experimental.do_not_convert\n",
      "WARNING: AutoGraph could not transform <function input_processing at 0x000002C68CDC8F70> and will run it as-is.\n",
      "Please report this to the TensorFlow team. When filing the bug, set the verbosity to 10 (on Linux, `export AUTOGRAPH_VERBOSITY=10`) and attach the full output.\n",
      "Cause: '<' not supported between instances of 'Literal' and 'str'\n",
      "To silence this warning, decorate the function with @tf.autograph.experimental.do_not_convert\n",
      "WARNING:tensorflow:From C:\\Users\\Home\\AppData\\Roaming\\Python\\Python38\\site-packages\\tensorflow\\python\\ops\\array_ops.py:5043: calling gather (from tensorflow.python.ops.array_ops) with validate_indices is deprecated and will be removed in a future version.\n",
      "Instructions for updating:\n",
      "The `validate_indices` argument has no effect. Indices are always validated on CPU and never validated on GPU.\n"
     ]
    },
    {
     "name": "stderr",
     "output_type": "stream",
     "text": [
      "C:\\Users\\Home\\AppData\\Roaming\\Python\\Python38\\site-packages\\tensorflow\\python\\keras\\optimizer_v2\\optimizer_v2.py:374: UserWarning: The `lr` argument is deprecated, use `learning_rate` instead.\n",
      "  warnings.warn(\n"
     ]
    },
    {
     "data": {
      "text/plain": [
       "<tensorflow.python.training.tracking.util.CheckpointLoadStatus at 0x2c6b1801550>"
      ]
     },
     "execution_count": 7,
     "metadata": {},
     "output_type": "execute_result"
    }
   ],
   "source": [
    "model = cat3_1()\n",
    "model.load_weights('checkpoints/koelectra_cat3_detail_1/')"
   ]
  },
  {
   "cell_type": "code",
   "execution_count": 13,
   "id": "a24a617e",
   "metadata": {},
   "outputs": [
    {
     "name": "stderr",
     "output_type": "stream",
     "text": [
      "Truncation was not explicitly activated but `max_length` is provided a specific value, please use `truncation=True` to explicitly truncate examples to max length. Defaulting to 'longest_first' truncation strategy. If you encode pairs of sequences (GLUE-style) with the tokenizer you can select this strategy more precisely by providing a specific strategy to `truncation`.\n",
      "C:\\Users\\Home\\AppData\\Roaming\\Python\\Python38\\site-packages\\transformers\\tokenization_utils_base.py:2323: FutureWarning: The `pad_to_max_length` argument is deprecated and will be removed in a future version, use `padding=True` or `padding='longest'` to pad to the longest sequence in the batch, or use `padding='max_length'` to pad to a max length. In this case, you can give a specific length with `max_length` (e.g. `max_length=45`) or leave max_length to None to pad to the maximal input size of the model (e.g. 512 for Bert).\n",
      "  warnings.warn(\n"
     ]
    }
   ],
   "source": [
    "test_data = test_1['overview'].values.tolist()\n",
    "test_encoded_electra = electra_tokenizer.batch_encode_plus(test_data)\n",
    "test_encoded_electra = electra_tokenizer.batch_encode_plus(test_data, max_length=650, pad_to_max_length='left')"
   ]
  },
  {
   "cell_type": "code",
   "execution_count": 14,
   "id": "154a6da4",
   "metadata": {},
   "outputs": [
    {
     "data": {
      "text/plain": [
       "807"
      ]
     },
     "execution_count": 14,
     "metadata": {},
     "output_type": "execute_result"
    }
   ],
   "source": [
    "x_test = test_encoded_electra['input_ids']\n",
    "test_dataset = (tf.data.Dataset.from_tensor_slices(x_test).batch(strategy.num_replicas_in_sync))\n",
    "len(x_test)"
   ]
  },
  {
   "cell_type": "code",
   "execution_count": 18,
   "id": "18fa9221",
   "metadata": {
    "scrolled": true
   },
   "outputs": [
    {
     "name": "stdout",
     "output_type": "stream",
     "text": [
      "807/807 [==============================] - 41s 50ms/step\n"
     ]
    }
   ],
   "source": [
    "pred = model.predict(test_dataset, verbose=1)\n",
    "pred_arg = pred.argmax(axis=1)"
   ]
  },
  {
   "cell_type": "code",
   "execution_count": 20,
   "id": "4f82255a",
   "metadata": {},
   "outputs": [],
   "source": [
    "encoder = LabelEncoder()\n",
    "\n",
    "encoder.fit(train_1['cat3'])\n",
    "result_1 = encoder.inverse_transform(pred_arg)"
   ]
  },
  {
   "cell_type": "code",
   "execution_count": 22,
   "id": "438ea519",
   "metadata": {},
   "outputs": [
    {
     "name": "stderr",
     "output_type": "stream",
     "text": [
      "C:\\Users\\Home\\AppData\\Local\\Temp\\ipykernel_20084\\4207659017.py:1: SettingWithCopyWarning: \n",
      "A value is trying to be set on a copy of a slice from a DataFrame.\n",
      "Try using .loc[row_indexer,col_indexer] = value instead\n",
      "\n",
      "See the caveats in the documentation: https://pandas.pydata.org/pandas-docs/stable/user_guide/indexing.html#returning-a-view-versus-a-copy\n",
      "  test_1['result'] = result_1\n"
     ]
    }
   ],
   "source": [
    "test_1['result'] = result_1"
   ]
  },
  {
   "cell_type": "code",
   "execution_count": 24,
   "id": "42b8b6d3",
   "metadata": {},
   "outputs": [
    {
     "data": {
      "text/html": [
       "<div>\n",
       "<style scoped>\n",
       "    .dataframe tbody tr th:only-of-type {\n",
       "        vertical-align: middle;\n",
       "    }\n",
       "\n",
       "    .dataframe tbody tr th {\n",
       "        vertical-align: top;\n",
       "    }\n",
       "\n",
       "    .dataframe thead th {\n",
       "        text-align: right;\n",
       "    }\n",
       "</style>\n",
       "<table border=\"1\" class=\"dataframe\">\n",
       "  <thead>\n",
       "    <tr style=\"text-align: right;\">\n",
       "      <th></th>\n",
       "      <th>id</th>\n",
       "      <th>img_path</th>\n",
       "      <th>overview</th>\n",
       "      <th>cat1_result</th>\n",
       "      <th>result</th>\n",
       "    </tr>\n",
       "  </thead>\n",
       "  <tbody>\n",
       "    <tr>\n",
       "      <th>4</th>\n",
       "      <td>TEST_00004</td>\n",
       "      <td>./image/test/TEST_00004.jpg</td>\n",
       "      <td>팔공산은 경산시의 북쪽에 위치한 해발 1192.3 m의 높은 산으로 신라시대에는 중...</td>\n",
       "      <td>자연</td>\n",
       "      <td>국립공원</td>\n",
       "    </tr>\n",
       "    <tr>\n",
       "      <th>12</th>\n",
       "      <td>TEST_00012</td>\n",
       "      <td>./image/test/TEST_00012.jpg</td>\n",
       "      <td>거창 서변은 높은 산들로 둘러싸인 분지형으로 예로부터 농업이 발달하고 인물이 많이 ...</td>\n",
       "      <td>자연</td>\n",
       "      <td>해수욕장</td>\n",
       "    </tr>\n",
       "    <tr>\n",
       "      <th>17</th>\n",
       "      <td>TEST_00017</td>\n",
       "      <td>./image/test/TEST_00017.jpg</td>\n",
       "      <td>강원도 양양군 현남면 동산리에 위치한 해수욕장이다. 7번 국도를 따라 북분리해수욕장...</td>\n",
       "      <td>자연</td>\n",
       "      <td>해수욕장</td>\n",
       "    </tr>\n",
       "    <tr>\n",
       "      <th>18</th>\n",
       "      <td>TEST_00018</td>\n",
       "      <td>./image/test/TEST_00018.jpg</td>\n",
       "      <td>시무지기 폭포는 규봉암 아래 해발 고도 700m에 위치하고 있는 천연폭포이며, 전체...</td>\n",
       "      <td>자연</td>\n",
       "      <td>폭포</td>\n",
       "    </tr>\n",
       "    <tr>\n",
       "      <th>23</th>\n",
       "      <td>TEST_00023</td>\n",
       "      <td>./image/test/TEST_00023.jpg</td>\n",
       "      <td>요트가 있는 풍경, 보령방조제 충남 보령시 오천면 충청수영로 소성삼거리에서 천북면을...</td>\n",
       "      <td>자연</td>\n",
       "      <td>자연생태관광지</td>\n",
       "    </tr>\n",
       "  </tbody>\n",
       "</table>\n",
       "</div>"
      ],
      "text/plain": [
       "            id                     img_path  \\\n",
       "4   TEST_00004  ./image/test/TEST_00004.jpg   \n",
       "12  TEST_00012  ./image/test/TEST_00012.jpg   \n",
       "17  TEST_00017  ./image/test/TEST_00017.jpg   \n",
       "18  TEST_00018  ./image/test/TEST_00018.jpg   \n",
       "23  TEST_00023  ./image/test/TEST_00023.jpg   \n",
       "\n",
       "                                             overview cat1_result   result  \n",
       "4   팔공산은 경산시의 북쪽에 위치한 해발 1192.3 m의 높은 산으로 신라시대에는 중...          자연     국립공원  \n",
       "12  거창 서변은 높은 산들로 둘러싸인 분지형으로 예로부터 농업이 발달하고 인물이 많이 ...          자연     해수욕장  \n",
       "17  강원도 양양군 현남면 동산리에 위치한 해수욕장이다. 7번 국도를 따라 북분리해수욕장...          자연     해수욕장  \n",
       "18  시무지기 폭포는 규봉암 아래 해발 고도 700m에 위치하고 있는 천연폭포이며, 전체...          자연       폭포  \n",
       "23  요트가 있는 풍경, 보령방조제 충남 보령시 오천면 충청수영로 소성삼거리에서 천북면을...          자연  자연생태관광지  "
      ]
     },
     "execution_count": 24,
     "metadata": {},
     "output_type": "execute_result"
    }
   ],
   "source": [
    "test_1.head()"
   ]
  },
  {
   "cell_type": "code",
   "execution_count": 39,
   "id": "dd6dae67",
   "metadata": {},
   "outputs": [],
   "source": [
    "test_1.to_csv('data/tset_cat3_1.csv', index=False, encoding='UTF8')"
   ]
  },
  {
   "cell_type": "code",
   "execution_count": 32,
   "id": "4cd11553",
   "metadata": {},
   "outputs": [
    {
     "name": "stderr",
     "output_type": "stream",
     "text": [
      "Some weights of the PyTorch model were not used when initializing the TF 2.0 model TFElectraModel: ['electra.embeddings.position_ids', 'discriminator_predictions.dense.bias', 'discriminator_predictions.dense.weight', 'discriminator_predictions.dense_prediction.bias', 'discriminator_predictions.dense_prediction.weight']\n",
      "- This IS expected if you are initializing TFElectraModel from a PyTorch model trained on another task or with another architecture (e.g. initializing a TFBertForSequenceClassification model from a BertForPreTraining model).\n",
      "- This IS NOT expected if you are initializing TFElectraModel from a PyTorch model that you expect to be exactly identical (e.g. initializing a TFBertForSequenceClassification model from a BertForSequenceClassification model).\n",
      "All the weights of TFElectraModel were initialized from the PyTorch model.\n",
      "If your task is similar to the task the model of the checkpoint was trained on, you can already use TFElectraModel for predictions without further training.\n",
      "C:\\Users\\Home\\AppData\\Roaming\\Python\\Python38\\site-packages\\tensorflow\\python\\keras\\optimizer_v2\\optimizer_v2.py:374: UserWarning: The `lr` argument is deprecated, use `learning_rate` instead.\n",
      "  warnings.warn(\n"
     ]
    },
    {
     "data": {
      "text/plain": [
       "<tensorflow.python.training.tracking.util.CheckpointLoadStatus at 0x2c8244a7550>"
      ]
     },
     "execution_count": 32,
     "metadata": {},
     "output_type": "execute_result"
    }
   ],
   "source": [
    "def cat3_2():\n",
    "    with strategy.scope():\n",
    "        encoder = TFElectraModel.from_pretrained(\"monologg/koelectra-base-v3-discriminator\", from_pt=True)\n",
    "\n",
    "        input_layer = Input(shape=(650,), dtype=tf.int32, name=\"input_layer\")\n",
    "        sequence_output = encoder(input_layer)[0]\n",
    "\n",
    "        cls_token = sequence_output[:, 0, :]\n",
    "\n",
    "        output_layer = Dense(31, activation='softmax')(cls_token)\n",
    "\n",
    "        model = Model(inputs=input_layer, outputs=output_layer)\n",
    "        model.compile(Adam(lr=1e-5), loss='sparse_categorical_crossentropy', metrics=['accuracy'])\n",
    "    \n",
    "    return model\n",
    "\n",
    "model = cat3_2()\n",
    "model.load_weights('checkpoints/koelectra_cat3_detail_2/')"
   ]
  },
  {
   "cell_type": "code",
   "execution_count": 33,
   "id": "a22af61c",
   "metadata": {},
   "outputs": [
    {
     "name": "stderr",
     "output_type": "stream",
     "text": [
      "C:\\Users\\Home\\AppData\\Roaming\\Python\\Python38\\site-packages\\transformers\\tokenization_utils_base.py:2323: FutureWarning: The `pad_to_max_length` argument is deprecated and will be removed in a future version, use `padding=True` or `padding='longest'` to pad to the longest sequence in the batch, or use `padding='max_length'` to pad to a max length. In this case, you can give a specific length with `max_length` (e.g. `max_length=45`) or leave max_length to None to pad to the maximal input size of the model (e.g. 512 for Bert).\n",
      "  warnings.warn(\n"
     ]
    }
   ],
   "source": [
    "test_data = test_2['overview'].values.tolist()\n",
    "test_encoded_electra = electra_tokenizer.batch_encode_plus(test_data)\n",
    "test_encoded_electra = electra_tokenizer.batch_encode_plus(test_data, max_length=650, pad_to_max_length='left')"
   ]
  },
  {
   "cell_type": "code",
   "execution_count": 34,
   "id": "68d7030b",
   "metadata": {},
   "outputs": [
    {
     "data": {
      "text/plain": [
       "1034"
      ]
     },
     "execution_count": 34,
     "metadata": {},
     "output_type": "execute_result"
    }
   ],
   "source": [
    "x_test = test_encoded_electra['input_ids']\n",
    "test_dataset = (tf.data.Dataset.from_tensor_slices(x_test).batch(strategy.num_replicas_in_sync))\n",
    "len(x_test)"
   ]
  },
  {
   "cell_type": "code",
   "execution_count": 35,
   "id": "ffa1f4c0",
   "metadata": {},
   "outputs": [
    {
     "name": "stdout",
     "output_type": "stream",
     "text": [
      "1034/1034 [==============================] - 53s 50ms/step\n"
     ]
    }
   ],
   "source": [
    "pred = model.predict(test_dataset, verbose=1)\n",
    "pred_arg = pred.argmax(axis=1)"
   ]
  },
  {
   "cell_type": "code",
   "execution_count": 36,
   "id": "00203c77",
   "metadata": {},
   "outputs": [],
   "source": [
    "encoder = LabelEncoder()\n",
    "\n",
    "encoder.fit(train_2['cat3'])\n",
    "result_2 = encoder.inverse_transform(pred_arg)"
   ]
  },
  {
   "cell_type": "code",
   "execution_count": 37,
   "id": "52e5be66",
   "metadata": {},
   "outputs": [
    {
     "name": "stderr",
     "output_type": "stream",
     "text": [
      "C:\\Users\\Home\\AppData\\Local\\Temp\\ipykernel_20084\\3174503155.py:1: SettingWithCopyWarning: \n",
      "A value is trying to be set on a copy of a slice from a DataFrame.\n",
      "Try using .loc[row_indexer,col_indexer] = value instead\n",
      "\n",
      "See the caveats in the documentation: https://pandas.pydata.org/pandas-docs/stable/user_guide/indexing.html#returning-a-view-versus-a-copy\n",
      "  test_2['result'] = result_2\n"
     ]
    },
    {
     "data": {
      "text/html": [
       "<div>\n",
       "<style scoped>\n",
       "    .dataframe tbody tr th:only-of-type {\n",
       "        vertical-align: middle;\n",
       "    }\n",
       "\n",
       "    .dataframe tbody tr th {\n",
       "        vertical-align: top;\n",
       "    }\n",
       "\n",
       "    .dataframe thead th {\n",
       "        text-align: right;\n",
       "    }\n",
       "</style>\n",
       "<table border=\"1\" class=\"dataframe\">\n",
       "  <thead>\n",
       "    <tr style=\"text-align: right;\">\n",
       "      <th></th>\n",
       "      <th>id</th>\n",
       "      <th>img_path</th>\n",
       "      <th>overview</th>\n",
       "      <th>cat1_result</th>\n",
       "      <th>result</th>\n",
       "    </tr>\n",
       "  </thead>\n",
       "  <tbody>\n",
       "    <tr>\n",
       "      <th>3</th>\n",
       "      <td>TEST_00003</td>\n",
       "      <td>./image/test/TEST_00003.jpg</td>\n",
       "      <td>다양한 형태의 청소년수련활동을 제공함으로써 청소년들이 민주사회의 주역이 될 수 있도...</td>\n",
       "      <td>레포츠</td>\n",
       "      <td>수련시설</td>\n",
       "    </tr>\n",
       "    <tr>\n",
       "      <th>19</th>\n",
       "      <td>TEST_00019</td>\n",
       "      <td>./image/test/TEST_00019.jpg</td>\n",
       "      <td>도봉구에 위치한 창동문화체육센터는 50,075㎡의 대규모 시설을 갖추고 있으며, 다...</td>\n",
       "      <td>레포츠</td>\n",
       "      <td>수련시설</td>\n",
       "    </tr>\n",
       "    <tr>\n",
       "      <th>22</th>\n",
       "      <td>TEST_00022</td>\n",
       "      <td>./image/test/TEST_00022.jpg</td>\n",
       "      <td>가족소풍은 담양군 용면 용연리에 위치한 곳으로 가든과 펜션이 함께 조성된 캠핑장이다...</td>\n",
       "      <td>레포츠</td>\n",
       "      <td>야영장,오토캠핑장</td>\n",
       "    </tr>\n",
       "    <tr>\n",
       "      <th>32</th>\n",
       "      <td>TEST_00032</td>\n",
       "      <td>./image/test/TEST_00032.jpg</td>\n",
       "      <td>보은글램핑은 충북 보은군 속리산면에 자리 잡고 있다. 보은군청을 기점으로 10㎞가량...</td>\n",
       "      <td>레포츠</td>\n",
       "      <td>야영장,오토캠핑장</td>\n",
       "    </tr>\n",
       "    <tr>\n",
       "      <th>38</th>\n",
       "      <td>TEST_00038</td>\n",
       "      <td>./image/test/TEST_00038.jpg</td>\n",
       "      <td>충청남도 서천군 종천면에 위치한 희리산 해송자연휴양림 일반야영장은 사계절 해송으로 ...</td>\n",
       "      <td>레포츠</td>\n",
       "      <td>야영장,오토캠핑장</td>\n",
       "    </tr>\n",
       "  </tbody>\n",
       "</table>\n",
       "</div>"
      ],
      "text/plain": [
       "            id                     img_path  \\\n",
       "3   TEST_00003  ./image/test/TEST_00003.jpg   \n",
       "19  TEST_00019  ./image/test/TEST_00019.jpg   \n",
       "22  TEST_00022  ./image/test/TEST_00022.jpg   \n",
       "32  TEST_00032  ./image/test/TEST_00032.jpg   \n",
       "38  TEST_00038  ./image/test/TEST_00038.jpg   \n",
       "\n",
       "                                             overview cat1_result     result  \n",
       "3   다양한 형태의 청소년수련활동을 제공함으로써 청소년들이 민주사회의 주역이 될 수 있도...         레포츠       수련시설  \n",
       "19  도봉구에 위치한 창동문화체육센터는 50,075㎡의 대규모 시설을 갖추고 있으며, 다...         레포츠       수련시설  \n",
       "22  가족소풍은 담양군 용면 용연리에 위치한 곳으로 가든과 펜션이 함께 조성된 캠핑장이다...         레포츠  야영장,오토캠핑장  \n",
       "32  보은글램핑은 충북 보은군 속리산면에 자리 잡고 있다. 보은군청을 기점으로 10㎞가량...         레포츠  야영장,오토캠핑장  \n",
       "38  충청남도 서천군 종천면에 위치한 희리산 해송자연휴양림 일반야영장은 사계절 해송으로 ...         레포츠  야영장,오토캠핑장  "
      ]
     },
     "execution_count": 37,
     "metadata": {},
     "output_type": "execute_result"
    }
   ],
   "source": [
    "test_2['result'] = result_2\n",
    "test_2.head()"
   ]
  },
  {
   "cell_type": "code",
   "execution_count": 40,
   "id": "f1050de6",
   "metadata": {},
   "outputs": [],
   "source": [
    "test_2.to_csv('data/tset_cat3_2.csv', index=False, encoding='UTF8')"
   ]
  },
  {
   "cell_type": "code",
   "execution_count": 9,
   "id": "370044ab",
   "metadata": {
    "scrolled": false
   },
   "outputs": [
    {
     "name": "stderr",
     "output_type": "stream",
     "text": [
      "Some weights of the PyTorch model were not used when initializing the TF 2.0 model TFElectraModel: ['discriminator_predictions.dense.weight', 'discriminator_predictions.dense_prediction.bias', 'discriminator_predictions.dense_prediction.weight', 'discriminator_predictions.dense.bias', 'electra.embeddings.position_ids']\n",
      "- This IS expected if you are initializing TFElectraModel from a PyTorch model trained on another task or with another architecture (e.g. initializing a TFBertForSequenceClassification model from a BertForPreTraining model).\n",
      "- This IS NOT expected if you are initializing TFElectraModel from a PyTorch model that you expect to be exactly identical (e.g. initializing a TFBertForSequenceClassification model from a BertForSequenceClassification model).\n",
      "All the weights of TFElectraModel were initialized from the PyTorch model.\n",
      "If your task is similar to the task the model of the checkpoint was trained on, you can already use TFElectraModel for predictions without further training.\n"
     ]
    },
    {
     "name": "stdout",
     "output_type": "stream",
     "text": [
      "WARNING:tensorflow:AutoGraph could not transform <function input_processing at 0x000002958CC65550> and will run it as-is.\n",
      "Please report this to the TensorFlow team. When filing the bug, set the verbosity to 10 (on Linux, `export AUTOGRAPH_VERBOSITY=10`) and attach the full output.\n",
      "Cause: '<' not supported between instances of 'str' and 'Literal'\n",
      "To silence this warning, decorate the function with @tf.autograph.experimental.do_not_convert\n",
      "WARNING: AutoGraph could not transform <function input_processing at 0x000002958CC65550> and will run it as-is.\n",
      "Please report this to the TensorFlow team. When filing the bug, set the verbosity to 10 (on Linux, `export AUTOGRAPH_VERBOSITY=10`) and attach the full output.\n",
      "Cause: '<' not supported between instances of 'str' and 'Literal'\n",
      "To silence this warning, decorate the function with @tf.autograph.experimental.do_not_convert\n",
      "WARNING:tensorflow:From C:\\Users\\Home\\AppData\\Roaming\\Python\\Python38\\site-packages\\tensorflow\\python\\ops\\array_ops.py:5043: calling gather (from tensorflow.python.ops.array_ops) with validate_indices is deprecated and will be removed in a future version.\n",
      "Instructions for updating:\n",
      "The `validate_indices` argument has no effect. Indices are always validated on CPU and never validated on GPU.\n"
     ]
    },
    {
     "name": "stderr",
     "output_type": "stream",
     "text": [
      "C:\\Users\\Home\\AppData\\Roaming\\Python\\Python38\\site-packages\\tensorflow\\python\\keras\\optimizer_v2\\optimizer_v2.py:374: UserWarning: The `lr` argument is deprecated, use `learning_rate` instead.\n",
      "  warnings.warn(\n"
     ]
    },
    {
     "data": {
      "text/plain": [
       "<tensorflow.python.training.tracking.util.CheckpointLoadStatus at 0x2959019bb80>"
      ]
     },
     "execution_count": 9,
     "metadata": {},
     "output_type": "execute_result"
    }
   ],
   "source": [
    "def cat3_3():\n",
    "    with strategy.scope():\n",
    "        encoder = TFElectraModel.from_pretrained(\"monologg/koelectra-base-v3-discriminator\", from_pt=True)\n",
    "\n",
    "        input_layer = Input(shape=(650,), dtype=tf.int32, name=\"input_layer\")\n",
    "        sequence_output = encoder(input_layer)[0]\n",
    "\n",
    "        cls_token = sequence_output[:, 0, :]\n",
    "\n",
    "        output_layer = Dense(8, activation='softmax')(cls_token)\n",
    "\n",
    "        model = Model(inputs=input_layer, outputs=output_layer)\n",
    "        model.compile(Adam(lr=1e-5), loss='sparse_categorical_crossentropy', metrics=['accuracy'])\n",
    "    \n",
    "    return model\n",
    "\n",
    "model = cat3_3()\n",
    "model.load_weights('checkpoints/koelectra_cat3_detail_3/')"
   ]
  },
  {
   "cell_type": "code",
   "execution_count": 10,
   "id": "e5040672",
   "metadata": {},
   "outputs": [
    {
     "name": "stderr",
     "output_type": "stream",
     "text": [
      "Truncation was not explicitly activated but `max_length` is provided a specific value, please use `truncation=True` to explicitly truncate examples to max length. Defaulting to 'longest_first' truncation strategy. If you encode pairs of sequences (GLUE-style) with the tokenizer you can select this strategy more precisely by providing a specific strategy to `truncation`.\n",
      "C:\\Users\\Home\\AppData\\Roaming\\Python\\Python38\\site-packages\\transformers\\tokenization_utils_base.py:2323: FutureWarning: The `pad_to_max_length` argument is deprecated and will be removed in a future version, use `padding=True` or `padding='longest'` to pad to the longest sequence in the batch, or use `padding='max_length'` to pad to a max length. In this case, you can give a specific length with `max_length` (e.g. `max_length=45`) or leave max_length to None to pad to the maximal input size of the model (e.g. 512 for Bert).\n",
      "  warnings.warn(\n"
     ]
    }
   ],
   "source": [
    "test_data = test_3['overview'].values.tolist()\n",
    "test_encoded_electra = electra_tokenizer.batch_encode_plus(test_data)\n",
    "test_encoded_electra = electra_tokenizer.batch_encode_plus(test_data, max_length=650, pad_to_max_length='left')"
   ]
  },
  {
   "cell_type": "code",
   "execution_count": 11,
   "id": "dfbfd632",
   "metadata": {},
   "outputs": [
    {
     "data": {
      "text/plain": [
       "2107"
      ]
     },
     "execution_count": 11,
     "metadata": {},
     "output_type": "execute_result"
    }
   ],
   "source": [
    "x_test = test_encoded_electra['input_ids']\n",
    "test_dataset = (tf.data.Dataset.from_tensor_slices(x_test).batch(strategy.num_replicas_in_sync))\n",
    "len(x_test)"
   ]
  },
  {
   "cell_type": "code",
   "execution_count": 12,
   "id": "03f257df",
   "metadata": {},
   "outputs": [
    {
     "name": "stdout",
     "output_type": "stream",
     "text": [
      "2107/2107 [==============================] - 108s 50ms/step\n"
     ]
    }
   ],
   "source": [
    "pred = model.predict(test_dataset, verbose=1)\n",
    "pred_arg = pred.argmax(axis=1)"
   ]
  },
  {
   "cell_type": "code",
   "execution_count": 13,
   "id": "d24bbbb3",
   "metadata": {},
   "outputs": [],
   "source": [
    "encoder = LabelEncoder()\n",
    "\n",
    "encoder.fit(train_3['cat3'])\n",
    "result_3 = encoder.inverse_transform(pred_arg)"
   ]
  },
  {
   "cell_type": "code",
   "execution_count": 14,
   "id": "212828ac",
   "metadata": {},
   "outputs": [
    {
     "name": "stderr",
     "output_type": "stream",
     "text": [
      "C:\\Users\\Home\\AppData\\Local\\Temp\\ipykernel_21204\\305257468.py:1: SettingWithCopyWarning: \n",
      "A value is trying to be set on a copy of a slice from a DataFrame.\n",
      "Try using .loc[row_indexer,col_indexer] = value instead\n",
      "\n",
      "See the caveats in the documentation: https://pandas.pydata.org/pandas-docs/stable/user_guide/indexing.html#returning-a-view-versus-a-copy\n",
      "  test_3['result'] = result_3\n"
     ]
    },
    {
     "data": {
      "text/html": [
       "<div>\n",
       "<style scoped>\n",
       "    .dataframe tbody tr th:only-of-type {\n",
       "        vertical-align: middle;\n",
       "    }\n",
       "\n",
       "    .dataframe tbody tr th {\n",
       "        vertical-align: top;\n",
       "    }\n",
       "\n",
       "    .dataframe thead th {\n",
       "        text-align: right;\n",
       "    }\n",
       "</style>\n",
       "<table border=\"1\" class=\"dataframe\">\n",
       "  <thead>\n",
       "    <tr style=\"text-align: right;\">\n",
       "      <th></th>\n",
       "      <th>id</th>\n",
       "      <th>img_path</th>\n",
       "      <th>overview</th>\n",
       "      <th>cat1_result</th>\n",
       "      <th>result</th>\n",
       "    </tr>\n",
       "  </thead>\n",
       "  <tbody>\n",
       "    <tr>\n",
       "      <th>0</th>\n",
       "      <td>TEST_00000</td>\n",
       "      <td>./image/test/TEST_00000.jpg</td>\n",
       "      <td>신선한 재료로 정성을 다해 만들었다. 늘 변함없는 맛과 서비스로 모실것을 약속한다.</td>\n",
       "      <td>음식</td>\n",
       "      <td>한식</td>\n",
       "    </tr>\n",
       "    <tr>\n",
       "      <th>1</th>\n",
       "      <td>TEST_00001</td>\n",
       "      <td>./image/test/TEST_00001.jpg</td>\n",
       "      <td>청청한 해역 등량만과 율포해수욕장이 한눈에 내려다 보이는 위치에 있으며, 막 잡은 ...</td>\n",
       "      <td>음식</td>\n",
       "      <td>일식</td>\n",
       "    </tr>\n",
       "    <tr>\n",
       "      <th>2</th>\n",
       "      <td>TEST_00002</td>\n",
       "      <td>./image/test/TEST_00002.jpg</td>\n",
       "      <td>장터설렁탕은 남녀노소 누구나 즐길 수 있는 전통 건강식으로 좋은 재료와 전통 조리방...</td>\n",
       "      <td>음식</td>\n",
       "      <td>한식</td>\n",
       "    </tr>\n",
       "    <tr>\n",
       "      <th>5</th>\n",
       "      <td>TEST_00005</td>\n",
       "      <td>./image/test/TEST_00005.jpg</td>\n",
       "      <td>30여 년의 세월이 느껴지는 실내 분위기가 냉면 맛을 더욱 살린다.</td>\n",
       "      <td>음식</td>\n",
       "      <td>한식</td>\n",
       "    </tr>\n",
       "    <tr>\n",
       "      <th>6</th>\n",
       "      <td>TEST_00006</td>\n",
       "      <td>./image/test/TEST_00006.jpg</td>\n",
       "      <td>코리달리스는 경기도 가평에 위치하고 있는 카페이다. 청명하고 맑은 호수 전경이 아름...</td>\n",
       "      <td>음식</td>\n",
       "      <td>바/까페</td>\n",
       "    </tr>\n",
       "  </tbody>\n",
       "</table>\n",
       "</div>"
      ],
      "text/plain": [
       "           id                     img_path  \\\n",
       "0  TEST_00000  ./image/test/TEST_00000.jpg   \n",
       "1  TEST_00001  ./image/test/TEST_00001.jpg   \n",
       "2  TEST_00002  ./image/test/TEST_00002.jpg   \n",
       "5  TEST_00005  ./image/test/TEST_00005.jpg   \n",
       "6  TEST_00006  ./image/test/TEST_00006.jpg   \n",
       "\n",
       "                                            overview cat1_result result  \n",
       "0     신선한 재료로 정성을 다해 만들었다. 늘 변함없는 맛과 서비스로 모실것을 약속한다.          음식     한식  \n",
       "1  청청한 해역 등량만과 율포해수욕장이 한눈에 내려다 보이는 위치에 있으며, 막 잡은 ...          음식     일식  \n",
       "2  장터설렁탕은 남녀노소 누구나 즐길 수 있는 전통 건강식으로 좋은 재료와 전통 조리방...          음식     한식  \n",
       "5              30여 년의 세월이 느껴지는 실내 분위기가 냉면 맛을 더욱 살린다.          음식     한식  \n",
       "6  코리달리스는 경기도 가평에 위치하고 있는 카페이다. 청명하고 맑은 호수 전경이 아름...          음식   바/까페  "
      ]
     },
     "execution_count": 14,
     "metadata": {},
     "output_type": "execute_result"
    }
   ],
   "source": [
    "test_3['result'] = result_3\n",
    "test_3.head()"
   ]
  },
  {
   "cell_type": "code",
   "execution_count": 15,
   "id": "63825e1d",
   "metadata": {},
   "outputs": [],
   "source": [
    "test_3.to_csv('data/tset_cat3_3.csv', index=False, encoding='UTF8')"
   ]
  },
  {
   "cell_type": "code",
   "execution_count": 16,
   "id": "9eec3eff",
   "metadata": {},
   "outputs": [
    {
     "name": "stderr",
     "output_type": "stream",
     "text": [
      "Some weights of the PyTorch model were not used when initializing the TF 2.0 model TFElectraModel: ['discriminator_predictions.dense.weight', 'discriminator_predictions.dense_prediction.bias', 'discriminator_predictions.dense_prediction.weight', 'discriminator_predictions.dense.bias', 'electra.embeddings.position_ids']\n",
      "- This IS expected if you are initializing TFElectraModel from a PyTorch model trained on another task or with another architecture (e.g. initializing a TFBertForSequenceClassification model from a BertForPreTraining model).\n",
      "- This IS NOT expected if you are initializing TFElectraModel from a PyTorch model that you expect to be exactly identical (e.g. initializing a TFBertForSequenceClassification model from a BertForSequenceClassification model).\n",
      "All the weights of TFElectraModel were initialized from the PyTorch model.\n",
      "If your task is similar to the task the model of the checkpoint was trained on, you can already use TFElectraModel for predictions without further training.\n",
      "C:\\Users\\Home\\AppData\\Roaming\\Python\\Python38\\site-packages\\tensorflow\\python\\keras\\optimizer_v2\\optimizer_v2.py:374: UserWarning: The `lr` argument is deprecated, use `learning_rate` instead.\n",
      "  warnings.warn(\n"
     ]
    },
    {
     "data": {
      "text/plain": [
       "<tensorflow.python.training.tracking.util.CheckpointLoadStatus at 0x2958f344850>"
      ]
     },
     "execution_count": 16,
     "metadata": {},
     "output_type": "execute_result"
    }
   ],
   "source": [
    "def cat3_4():\n",
    "    with strategy.scope():\n",
    "        encoder = TFElectraModel.from_pretrained(\"monologg/koelectra-base-v3-discriminator\", from_pt=True)\n",
    "\n",
    "        input_layer = Input(shape=(650,), dtype=tf.int32, name=\"input_layer\")\n",
    "        sequence_output = encoder(input_layer)[0]\n",
    "\n",
    "        cls_token = sequence_output[:, 0, :]\n",
    "\n",
    "        output_layer = Dense(53, activation='softmax')(cls_token)\n",
    "\n",
    "        model = Model(inputs=input_layer, outputs=output_layer)\n",
    "        model.compile(Adam(lr=1e-5), loss='sparse_categorical_crossentropy', metrics=['accuracy'])\n",
    "    \n",
    "    return model\n",
    "\n",
    "model = cat3_4()\n",
    "model.load_weights('checkpoints/koelectra_cat3_detail_4/')"
   ]
  },
  {
   "cell_type": "code",
   "execution_count": 17,
   "id": "f0ef8281",
   "metadata": {},
   "outputs": [
    {
     "name": "stderr",
     "output_type": "stream",
     "text": [
      "Token indices sequence length is longer than the specified maximum sequence length for this model (542 > 512). Running this sequence through the model will result in indexing errors\n",
      "C:\\Users\\Home\\AppData\\Roaming\\Python\\Python38\\site-packages\\transformers\\tokenization_utils_base.py:2323: FutureWarning: The `pad_to_max_length` argument is deprecated and will be removed in a future version, use `padding=True` or `padding='longest'` to pad to the longest sequence in the batch, or use `padding='max_length'` to pad to a max length. In this case, you can give a specific length with `max_length` (e.g. `max_length=45`) or leave max_length to None to pad to the maximal input size of the model (e.g. 512 for Bert).\n",
      "  warnings.warn(\n"
     ]
    }
   ],
   "source": [
    "test_data = test_4['overview'].values.tolist()\n",
    "test_encoded_electra = electra_tokenizer.batch_encode_plus(test_data)\n",
    "test_encoded_electra = electra_tokenizer.batch_encode_plus(test_data, max_length=650, pad_to_max_length='left')"
   ]
  },
  {
   "cell_type": "code",
   "execution_count": 18,
   "id": "7e9198a5",
   "metadata": {},
   "outputs": [
    {
     "data": {
      "text/plain": [
       "2417"
      ]
     },
     "execution_count": 18,
     "metadata": {},
     "output_type": "execute_result"
    }
   ],
   "source": [
    "x_test = test_encoded_electra['input_ids']\n",
    "test_dataset = (tf.data.Dataset.from_tensor_slices(x_test).batch(strategy.num_replicas_in_sync))\n",
    "len(x_test)"
   ]
  },
  {
   "cell_type": "code",
   "execution_count": 19,
   "id": "472b9966",
   "metadata": {},
   "outputs": [
    {
     "name": "stdout",
     "output_type": "stream",
     "text": [
      "2417/2417 [==============================] - 124s 50ms/step\n"
     ]
    }
   ],
   "source": [
    "pred = model.predict(test_dataset, verbose=1)\n",
    "pred_arg = pred.argmax(axis=1)"
   ]
  },
  {
   "cell_type": "code",
   "execution_count": 20,
   "id": "00146572",
   "metadata": {},
   "outputs": [
    {
     "name": "stderr",
     "output_type": "stream",
     "text": [
      "C:\\Users\\Home\\AppData\\Local\\Temp\\ipykernel_21204\\1245553347.py:6: SettingWithCopyWarning: \n",
      "A value is trying to be set on a copy of a slice from a DataFrame.\n",
      "Try using .loc[row_indexer,col_indexer] = value instead\n",
      "\n",
      "See the caveats in the documentation: https://pandas.pydata.org/pandas-docs/stable/user_guide/indexing.html#returning-a-view-versus-a-copy\n",
      "  test_4['result'] = result_4\n"
     ]
    },
    {
     "data": {
      "text/html": [
       "<div>\n",
       "<style scoped>\n",
       "    .dataframe tbody tr th:only-of-type {\n",
       "        vertical-align: middle;\n",
       "    }\n",
       "\n",
       "    .dataframe tbody tr th {\n",
       "        vertical-align: top;\n",
       "    }\n",
       "\n",
       "    .dataframe thead th {\n",
       "        text-align: right;\n",
       "    }\n",
       "</style>\n",
       "<table border=\"1\" class=\"dataframe\">\n",
       "  <thead>\n",
       "    <tr style=\"text-align: right;\">\n",
       "      <th></th>\n",
       "      <th>id</th>\n",
       "      <th>img_path</th>\n",
       "      <th>overview</th>\n",
       "      <th>cat1_result</th>\n",
       "      <th>result</th>\n",
       "    </tr>\n",
       "  </thead>\n",
       "  <tbody>\n",
       "    <tr>\n",
       "      <th>8</th>\n",
       "      <td>TEST_00008</td>\n",
       "      <td>./image/test/TEST_00008.jpg</td>\n",
       "      <td>정유재란(1597年) 당시 육전에서 패퇴한 왜군선봉장 宇喜多秀家(우끼다히데이)와 藤...</td>\n",
       "      <td>인문(문화/예술/역사)</td>\n",
       "      <td>성</td>\n",
       "    </tr>\n",
       "    <tr>\n",
       "      <th>10</th>\n",
       "      <td>TEST_00010</td>\n",
       "      <td>./image/test/TEST_00010.jpg</td>\n",
       "      <td>토지를 한 눈에 본다. 토지문화관 토지문화관은 토지문화재단에서 학술·문화행사 및 연...</td>\n",
       "      <td>인문(문화/예술/역사)</td>\n",
       "      <td>도서관</td>\n",
       "    </tr>\n",
       "    <tr>\n",
       "      <th>13</th>\n",
       "      <td>TEST_00013</td>\n",
       "      <td>./image/test/TEST_00013.jpg</td>\n",
       "      <td>화림선원은 재단법인 선학원 소속의 사찰이다. 경기도 안산시 상록구 일동 수리산(修理...</td>\n",
       "      <td>인문(문화/예술/역사)</td>\n",
       "      <td>사찰</td>\n",
       "    </tr>\n",
       "    <tr>\n",
       "      <th>21</th>\n",
       "      <td>TEST_00021</td>\n",
       "      <td>./image/test/TEST_00021.jpg</td>\n",
       "      <td>보령 해수욕장 관광특구는 보령을 대표하는 대천해수욕장과 무창포해수욕장, 죽도 관광지...</td>\n",
       "      <td>인문(문화/예술/역사)</td>\n",
       "      <td>관광단지</td>\n",
       "    </tr>\n",
       "    <tr>\n",
       "      <th>25</th>\n",
       "      <td>TEST_00025</td>\n",
       "      <td>./image/test/TEST_00025.jpg</td>\n",
       "      <td>방랑시인 김삿갓이 생을 마쳤던 전남 화순지역의 대표적인 정자 물염정은 화순적벽에서 ...</td>\n",
       "      <td>인문(문화/예술/역사)</td>\n",
       "      <td>유명건물</td>\n",
       "    </tr>\n",
       "  </tbody>\n",
       "</table>\n",
       "</div>"
      ],
      "text/plain": [
       "            id                     img_path  \\\n",
       "8   TEST_00008  ./image/test/TEST_00008.jpg   \n",
       "10  TEST_00010  ./image/test/TEST_00010.jpg   \n",
       "13  TEST_00013  ./image/test/TEST_00013.jpg   \n",
       "21  TEST_00021  ./image/test/TEST_00021.jpg   \n",
       "25  TEST_00025  ./image/test/TEST_00025.jpg   \n",
       "\n",
       "                                             overview   cat1_result result  \n",
       "8   정유재란(1597年) 당시 육전에서 패퇴한 왜군선봉장 宇喜多秀家(우끼다히데이)와 藤...  인문(문화/예술/역사)      성  \n",
       "10  토지를 한 눈에 본다. 토지문화관 토지문화관은 토지문화재단에서 학술·문화행사 및 연...  인문(문화/예술/역사)    도서관  \n",
       "13  화림선원은 재단법인 선학원 소속의 사찰이다. 경기도 안산시 상록구 일동 수리산(修理...  인문(문화/예술/역사)     사찰  \n",
       "21  보령 해수욕장 관광특구는 보령을 대표하는 대천해수욕장과 무창포해수욕장, 죽도 관광지...  인문(문화/예술/역사)   관광단지  \n",
       "25  방랑시인 김삿갓이 생을 마쳤던 전남 화순지역의 대표적인 정자 물염정은 화순적벽에서 ...  인문(문화/예술/역사)   유명건물  "
      ]
     },
     "execution_count": 20,
     "metadata": {},
     "output_type": "execute_result"
    }
   ],
   "source": [
    "encoder = LabelEncoder()\n",
    "\n",
    "encoder.fit(train_4['cat3'])\n",
    "result_4 = encoder.inverse_transform(pred_arg)\n",
    "\n",
    "test_4['result'] = result_4\n",
    "test_4.head()"
   ]
  },
  {
   "cell_type": "code",
   "execution_count": 21,
   "id": "5287c847",
   "metadata": {},
   "outputs": [],
   "source": [
    "test_4.to_csv('data/tset_cat3_4.csv', index=False, encoding='UTF8')"
   ]
  },
  {
   "cell_type": "code",
   "execution_count": 22,
   "id": "c1cd009a",
   "metadata": {},
   "outputs": [
    {
     "name": "stderr",
     "output_type": "stream",
     "text": [
      "Some weights of the PyTorch model were not used when initializing the TF 2.0 model TFElectraModel: ['discriminator_predictions.dense.weight', 'discriminator_predictions.dense_prediction.bias', 'discriminator_predictions.dense_prediction.weight', 'discriminator_predictions.dense.bias', 'electra.embeddings.position_ids']\n",
      "- This IS expected if you are initializing TFElectraModel from a PyTorch model trained on another task or with another architecture (e.g. initializing a TFBertForSequenceClassification model from a BertForPreTraining model).\n",
      "- This IS NOT expected if you are initializing TFElectraModel from a PyTorch model that you expect to be exactly identical (e.g. initializing a TFBertForSequenceClassification model from a BertForSequenceClassification model).\n",
      "All the weights of TFElectraModel were initialized from the PyTorch model.\n",
      "If your task is similar to the task the model of the checkpoint was trained on, you can already use TFElectraModel for predictions without further training.\n",
      "C:\\Users\\Home\\AppData\\Roaming\\Python\\Python38\\site-packages\\tensorflow\\python\\keras\\optimizer_v2\\optimizer_v2.py:374: UserWarning: The `lr` argument is deprecated, use `learning_rate` instead.\n",
      "  warnings.warn(\n"
     ]
    },
    {
     "data": {
      "text/plain": [
       "<tensorflow.python.training.tracking.util.CheckpointLoadStatus at 0x295a91b3d30>"
      ]
     },
     "execution_count": 22,
     "metadata": {},
     "output_type": "execute_result"
    }
   ],
   "source": [
    "def cat3_5():\n",
    "    with strategy.scope():\n",
    "        encoder = TFElectraModel.from_pretrained(\"monologg/koelectra-base-v3-discriminator\", from_pt=True)\n",
    "\n",
    "        input_layer = Input(shape=(650,), dtype=tf.int32, name=\"input_layer\")\n",
    "        sequence_output = encoder(input_layer)[0]\n",
    "\n",
    "        cls_token = sequence_output[:, 0, :]\n",
    "\n",
    "        output_layer = Dense(9, activation='softmax')(cls_token)\n",
    "\n",
    "        model = Model(inputs=input_layer, outputs=output_layer)\n",
    "        model.compile(Adam(lr=1e-5), loss='sparse_categorical_crossentropy', metrics=['accuracy'])\n",
    "    \n",
    "    return model\n",
    "\n",
    "model = cat3_5()\n",
    "model.load_weights('checkpoints/koelectra_cat3_detail_5/')"
   ]
  },
  {
   "cell_type": "code",
   "execution_count": 23,
   "id": "aeec9e68",
   "metadata": {},
   "outputs": [
    {
     "name": "stderr",
     "output_type": "stream",
     "text": [
      "C:\\Users\\Home\\AppData\\Roaming\\Python\\Python38\\site-packages\\transformers\\tokenization_utils_base.py:2323: FutureWarning: The `pad_to_max_length` argument is deprecated and will be removed in a future version, use `padding=True` or `padding='longest'` to pad to the longest sequence in the batch, or use `padding='max_length'` to pad to a max length. In this case, you can give a specific length with `max_length` (e.g. `max_length=45`) or leave max_length to None to pad to the maximal input size of the model (e.g. 512 for Bert).\n",
      "  warnings.warn(\n"
     ]
    }
   ],
   "source": [
    "test_data = test_5['overview'].values.tolist()\n",
    "test_encoded_electra = electra_tokenizer.batch_encode_plus(test_data)\n",
    "test_encoded_electra = electra_tokenizer.batch_encode_plus(test_data, max_length=650, pad_to_max_length='left')"
   ]
  },
  {
   "cell_type": "code",
   "execution_count": 24,
   "id": "b504bcec",
   "metadata": {},
   "outputs": [
    {
     "data": {
      "text/plain": [
       "615"
      ]
     },
     "execution_count": 24,
     "metadata": {},
     "output_type": "execute_result"
    }
   ],
   "source": [
    "x_test = test_encoded_electra['input_ids']\n",
    "test_dataset = (tf.data.Dataset.from_tensor_slices(x_test).batch(strategy.num_replicas_in_sync))\n",
    "len(x_test)"
   ]
  },
  {
   "cell_type": "code",
   "execution_count": 25,
   "id": "e86bfe5b",
   "metadata": {},
   "outputs": [
    {
     "name": "stdout",
     "output_type": "stream",
     "text": [
      "615/615 [==============================] - 33s 51ms/step\n"
     ]
    }
   ],
   "source": [
    "pred = model.predict(test_dataset, verbose=1)\n",
    "pred_arg = pred.argmax(axis=1)"
   ]
  },
  {
   "cell_type": "code",
   "execution_count": 26,
   "id": "9815a428",
   "metadata": {},
   "outputs": [
    {
     "name": "stderr",
     "output_type": "stream",
     "text": [
      "C:\\Users\\Home\\AppData\\Local\\Temp\\ipykernel_21204\\1867516573.py:6: SettingWithCopyWarning: \n",
      "A value is trying to be set on a copy of a slice from a DataFrame.\n",
      "Try using .loc[row_indexer,col_indexer] = value instead\n",
      "\n",
      "See the caveats in the documentation: https://pandas.pydata.org/pandas-docs/stable/user_guide/indexing.html#returning-a-view-versus-a-copy\n",
      "  test_5['result'] = result_5\n"
     ]
    },
    {
     "data": {
      "text/html": [
       "<div>\n",
       "<style scoped>\n",
       "    .dataframe tbody tr th:only-of-type {\n",
       "        vertical-align: middle;\n",
       "    }\n",
       "\n",
       "    .dataframe tbody tr th {\n",
       "        vertical-align: top;\n",
       "    }\n",
       "\n",
       "    .dataframe thead th {\n",
       "        text-align: right;\n",
       "    }\n",
       "</style>\n",
       "<table border=\"1\" class=\"dataframe\">\n",
       "  <thead>\n",
       "    <tr style=\"text-align: right;\">\n",
       "      <th></th>\n",
       "      <th>id</th>\n",
       "      <th>img_path</th>\n",
       "      <th>overview</th>\n",
       "      <th>cat1_result</th>\n",
       "      <th>result</th>\n",
       "    </tr>\n",
       "  </thead>\n",
       "  <tbody>\n",
       "    <tr>\n",
       "      <th>20</th>\n",
       "      <td>TEST_00020</td>\n",
       "      <td>./image/test/TEST_00020.jpg</td>\n",
       "      <td>라마다호텔&amp;스위트평창은 고루포기산의 능경봉을 등지고 36,000㎡의 대지 주변으로 ...</td>\n",
       "      <td>숙박</td>\n",
       "      <td>한옥스테이</td>\n",
       "    </tr>\n",
       "    <tr>\n",
       "      <th>24</th>\n",
       "      <td>TEST_00024</td>\n",
       "      <td>./image/test/TEST_00024.jpg</td>\n",
       "      <td>#본 업소는 외국인관광 도시민박업으로 외국인만 이용이 가능하며 내국인은 이용할 수 ...</td>\n",
       "      <td>숙박</td>\n",
       "      <td>게스트하우스</td>\n",
       "    </tr>\n",
       "    <tr>\n",
       "      <th>42</th>\n",
       "      <td>TEST_00042</td>\n",
       "      <td>./image/test/TEST_00042.jpg</td>\n",
       "      <td>#본 업소는 외국인관광 도시민박업으로 외국인만 이용이 가능하며 내국인은 이용할 수 ...</td>\n",
       "      <td>숙박</td>\n",
       "      <td>게스트하우스</td>\n",
       "    </tr>\n",
       "    <tr>\n",
       "      <th>50</th>\n",
       "      <td>TEST_00050</td>\n",
       "      <td>./image/test/TEST_00050.jpg</td>\n",
       "      <td>충남에 위치한 칠갑산 샬레 호텔은 칠갑산의 자연 풍광이 한눈에 들어온다.  정문에서...</td>\n",
       "      <td>숙박</td>\n",
       "      <td>모텔</td>\n",
       "    </tr>\n",
       "    <tr>\n",
       "      <th>54</th>\n",
       "      <td>TEST_00054</td>\n",
       "      <td>./image/test/TEST_00054.jpg</td>\n",
       "      <td>민통선 가까이 있는 휴식공간으로 강화군 송해면 숭뢰리 일대 5,000㎡부지에 객실 ...</td>\n",
       "      <td>숙박</td>\n",
       "      <td>펜션</td>\n",
       "    </tr>\n",
       "  </tbody>\n",
       "</table>\n",
       "</div>"
      ],
      "text/plain": [
       "            id                     img_path  \\\n",
       "20  TEST_00020  ./image/test/TEST_00020.jpg   \n",
       "24  TEST_00024  ./image/test/TEST_00024.jpg   \n",
       "42  TEST_00042  ./image/test/TEST_00042.jpg   \n",
       "50  TEST_00050  ./image/test/TEST_00050.jpg   \n",
       "54  TEST_00054  ./image/test/TEST_00054.jpg   \n",
       "\n",
       "                                             overview cat1_result  result  \n",
       "20  라마다호텔&스위트평창은 고루포기산의 능경봉을 등지고 36,000㎡의 대지 주변으로 ...          숙박   한옥스테이  \n",
       "24  #본 업소는 외국인관광 도시민박업으로 외국인만 이용이 가능하며 내국인은 이용할 수 ...          숙박  게스트하우스  \n",
       "42  #본 업소는 외국인관광 도시민박업으로 외국인만 이용이 가능하며 내국인은 이용할 수 ...          숙박  게스트하우스  \n",
       "50  충남에 위치한 칠갑산 샬레 호텔은 칠갑산의 자연 풍광이 한눈에 들어온다.  정문에서...          숙박      모텔  \n",
       "54  민통선 가까이 있는 휴식공간으로 강화군 송해면 숭뢰리 일대 5,000㎡부지에 객실 ...          숙박      펜션  "
      ]
     },
     "execution_count": 26,
     "metadata": {},
     "output_type": "execute_result"
    }
   ],
   "source": [
    "encoder = LabelEncoder()\n",
    "\n",
    "encoder.fit(train_5['cat3'])\n",
    "result_5 = encoder.inverse_transform(pred_arg)\n",
    "\n",
    "test_5['result'] = result_5\n",
    "test_5.head()"
   ]
  },
  {
   "cell_type": "code",
   "execution_count": 27,
   "id": "685c17cb",
   "metadata": {},
   "outputs": [],
   "source": [
    "test_5.to_csv('data/tset_cat3_5.csv', index=False, encoding='UTF8')"
   ]
  },
  {
   "cell_type": "code",
   "execution_count": 8,
   "id": "9a8da628",
   "metadata": {},
   "outputs": [
    {
     "name": "stderr",
     "output_type": "stream",
     "text": [
      "Some weights of the PyTorch model were not used when initializing the TF 2.0 model TFElectraModel: ['discriminator_predictions.dense_prediction.bias', 'discriminator_predictions.dense_prediction.weight', 'discriminator_predictions.dense.bias', 'electra.embeddings.position_ids', 'discriminator_predictions.dense.weight']\n",
      "- This IS expected if you are initializing TFElectraModel from a PyTorch model trained on another task or with another architecture (e.g. initializing a TFBertForSequenceClassification model from a BertForPreTraining model).\n",
      "- This IS NOT expected if you are initializing TFElectraModel from a PyTorch model that you expect to be exactly identical (e.g. initializing a TFBertForSequenceClassification model from a BertForSequenceClassification model).\n",
      "All the weights of TFElectraModel were initialized from the PyTorch model.\n",
      "If your task is similar to the task the model of the checkpoint was trained on, you can already use TFElectraModel for predictions without further training.\n"
     ]
    },
    {
     "name": "stdout",
     "output_type": "stream",
     "text": [
      "WARNING:tensorflow:AutoGraph could not transform <function input_processing at 0x0000029E8CEBEF70> and will run it as-is.\n",
      "Please report this to the TensorFlow team. When filing the bug, set the verbosity to 10 (on Linux, `export AUTOGRAPH_VERBOSITY=10`) and attach the full output.\n",
      "Cause: '<' not supported between instances of 'str' and 'Literal'\n",
      "To silence this warning, decorate the function with @tf.autograph.experimental.do_not_convert\n",
      "WARNING: AutoGraph could not transform <function input_processing at 0x0000029E8CEBEF70> and will run it as-is.\n",
      "Please report this to the TensorFlow team. When filing the bug, set the verbosity to 10 (on Linux, `export AUTOGRAPH_VERBOSITY=10`) and attach the full output.\n",
      "Cause: '<' not supported between instances of 'str' and 'Literal'\n",
      "To silence this warning, decorate the function with @tf.autograph.experimental.do_not_convert\n",
      "WARNING:tensorflow:From C:\\Users\\Home\\AppData\\Roaming\\Python\\Python38\\site-packages\\tensorflow\\python\\ops\\array_ops.py:5043: calling gather (from tensorflow.python.ops.array_ops) with validate_indices is deprecated and will be removed in a future version.\n",
      "Instructions for updating:\n",
      "The `validate_indices` argument has no effect. Indices are always validated on CPU and never validated on GPU.\n"
     ]
    },
    {
     "name": "stderr",
     "output_type": "stream",
     "text": [
      "C:\\Users\\Home\\AppData\\Roaming\\Python\\Python38\\site-packages\\tensorflow\\python\\keras\\optimizer_v2\\optimizer_v2.py:374: UserWarning: The `lr` argument is deprecated, use `learning_rate` instead.\n",
      "  warnings.warn(\n"
     ]
    },
    {
     "data": {
      "text/plain": [
       "<tensorflow.python.training.tracking.util.CheckpointLoadStatus at 0x29eb28dc040>"
      ]
     },
     "execution_count": 8,
     "metadata": {},
     "output_type": "execute_result"
    }
   ],
   "source": [
    "def cat3_6():\n",
    "    with strategy.scope():\n",
    "        encoder = TFElectraModel.from_pretrained(\"monologg/koelectra-base-v3-discriminator\", from_pt=True)\n",
    "\n",
    "        input_layer = Input(shape=(650,), dtype=tf.int32, name=\"input_layer\")\n",
    "        sequence_output = encoder(input_layer)[0]\n",
    "\n",
    "        cls_token = sequence_output[:, 0, :]\n",
    "\n",
    "        output_layer = Dense(7, activation='softmax')(cls_token)\n",
    "\n",
    "        model = Model(inputs=input_layer, outputs=output_layer)\n",
    "        model.compile(Adam(lr=1e-5), loss='sparse_categorical_crossentropy', metrics=['accuracy'])\n",
    "    \n",
    "    return model\n",
    "\n",
    "model = cat3_6()\n",
    "model.load_weights('checkpoints/koelectra_cat3_detail_6/')"
   ]
  },
  {
   "cell_type": "code",
   "execution_count": 9,
   "id": "93c7e1f6",
   "metadata": {},
   "outputs": [
    {
     "name": "stderr",
     "output_type": "stream",
     "text": [
      "Token indices sequence length is longer than the specified maximum sequence length for this model (537 > 512). Running this sequence through the model will result in indexing errors\n",
      "Truncation was not explicitly activated but `max_length` is provided a specific value, please use `truncation=True` to explicitly truncate examples to max length. Defaulting to 'longest_first' truncation strategy. If you encode pairs of sequences (GLUE-style) with the tokenizer you can select this strategy more precisely by providing a specific strategy to `truncation`.\n",
      "C:\\Users\\Home\\AppData\\Roaming\\Python\\Python38\\site-packages\\transformers\\tokenization_utils_base.py:2323: FutureWarning: The `pad_to_max_length` argument is deprecated and will be removed in a future version, use `padding=True` or `padding='longest'` to pad to the longest sequence in the batch, or use `padding='max_length'` to pad to a max length. In this case, you can give a specific length with `max_length` (e.g. `max_length=45`) or leave max_length to None to pad to the maximal input size of the model (e.g. 512 for Bert).\n",
      "  warnings.warn(\n"
     ]
    }
   ],
   "source": [
    "test_data = test_6['overview'].values.tolist()\n",
    "test_encoded_electra = electra_tokenizer.batch_encode_plus(test_data)\n",
    "test_encoded_electra = electra_tokenizer.batch_encode_plus(test_data, max_length=650, pad_to_max_length='left')"
   ]
  },
  {
   "cell_type": "code",
   "execution_count": 10,
   "id": "5174307c",
   "metadata": {},
   "outputs": [
    {
     "data": {
      "text/plain": [
       "300"
      ]
     },
     "execution_count": 10,
     "metadata": {},
     "output_type": "execute_result"
    }
   ],
   "source": [
    "x_test = test_encoded_electra['input_ids']\n",
    "test_dataset = (tf.data.Dataset.from_tensor_slices(x_test).batch(strategy.num_replicas_in_sync))\n",
    "len(x_test)"
   ]
  },
  {
   "cell_type": "code",
   "execution_count": 11,
   "id": "5c061021",
   "metadata": {},
   "outputs": [
    {
     "name": "stdout",
     "output_type": "stream",
     "text": [
      "300/300 [==============================] - 17s 50ms/step\n"
     ]
    }
   ],
   "source": [
    "pred = model.predict(test_dataset, verbose=1)\n",
    "pred_arg = pred.argmax(axis=1)"
   ]
  },
  {
   "cell_type": "code",
   "execution_count": 13,
   "id": "6b7f5a04",
   "metadata": {
    "scrolled": true
   },
   "outputs": [
    {
     "name": "stderr",
     "output_type": "stream",
     "text": [
      "C:\\Users\\Home\\AppData\\Local\\Temp\\ipykernel_21028\\1553172679.py:6: SettingWithCopyWarning: \n",
      "A value is trying to be set on a copy of a slice from a DataFrame.\n",
      "Try using .loc[row_indexer,col_indexer] = value instead\n",
      "\n",
      "See the caveats in the documentation: https://pandas.pydata.org/pandas-docs/stable/user_guide/indexing.html#returning-a-view-versus-a-copy\n",
      "  test_6['result'] = result_6\n"
     ]
    },
    {
     "data": {
      "text/html": [
       "<div>\n",
       "<style scoped>\n",
       "    .dataframe tbody tr th:only-of-type {\n",
       "        vertical-align: middle;\n",
       "    }\n",
       "\n",
       "    .dataframe tbody tr th {\n",
       "        vertical-align: top;\n",
       "    }\n",
       "\n",
       "    .dataframe thead th {\n",
       "        text-align: right;\n",
       "    }\n",
       "</style>\n",
       "<table border=\"1\" class=\"dataframe\">\n",
       "  <thead>\n",
       "    <tr style=\"text-align: right;\">\n",
       "      <th></th>\n",
       "      <th>id</th>\n",
       "      <th>img_path</th>\n",
       "      <th>overview</th>\n",
       "      <th>cat1_result</th>\n",
       "      <th>result</th>\n",
       "    </tr>\n",
       "  </thead>\n",
       "  <tbody>\n",
       "    <tr>\n",
       "      <th>9</th>\n",
       "      <td>TEST_00009</td>\n",
       "      <td>./image/test/TEST_00009.jpg</td>\n",
       "      <td>약 50여개의 점포가 있는 골목형 시장이다. 시장 내에 개성 있는 인테리어의 카레전...</td>\n",
       "      <td>쇼핑</td>\n",
       "      <td>상설시장</td>\n",
       "    </tr>\n",
       "    <tr>\n",
       "      <th>16</th>\n",
       "      <td>TEST_00016</td>\n",
       "      <td>./image/test/TEST_00016.jpg</td>\n",
       "      <td>부산 서구의 전통시장인 충무동 새벽시장은 부산 남항과 인접해 있다. 과거에는 새벽 ...</td>\n",
       "      <td>쇼핑</td>\n",
       "      <td>상설시장</td>\n",
       "    </tr>\n",
       "    <tr>\n",
       "      <th>56</th>\n",
       "      <td>TEST_00056</td>\n",
       "      <td>./image/test/TEST_00056.jpg</td>\n",
       "      <td>서울 영등포구 대림동에 위치한 대림중앙시장은 한국속 작은 중국이라 불릴 정도로 조선...</td>\n",
       "      <td>쇼핑</td>\n",
       "      <td>상설시장</td>\n",
       "    </tr>\n",
       "    <tr>\n",
       "      <th>70</th>\n",
       "      <td>TEST_00070</td>\n",
       "      <td>./image/test/TEST_00070.jpg</td>\n",
       "      <td>중앙유통단지는 공장에서 직접납품을 받아 판매하므로 중간단계의 운송비 및 물류비 절감...</td>\n",
       "      <td>쇼핑</td>\n",
       "      <td>전문상가</td>\n",
       "    </tr>\n",
       "    <tr>\n",
       "      <th>136</th>\n",
       "      <td>TEST_00136</td>\n",
       "      <td>./image/test/TEST_00136.jpg</td>\n",
       "      <td>전면적의 82%가 산인 진안은 오늘날 전국에서 인삼이 가장 많이 생산되는 고장이다....</td>\n",
       "      <td>쇼핑</td>\n",
       "      <td>특산물판매점</td>\n",
       "    </tr>\n",
       "  </tbody>\n",
       "</table>\n",
       "</div>"
      ],
      "text/plain": [
       "             id                     img_path  \\\n",
       "9    TEST_00009  ./image/test/TEST_00009.jpg   \n",
       "16   TEST_00016  ./image/test/TEST_00016.jpg   \n",
       "56   TEST_00056  ./image/test/TEST_00056.jpg   \n",
       "70   TEST_00070  ./image/test/TEST_00070.jpg   \n",
       "136  TEST_00136  ./image/test/TEST_00136.jpg   \n",
       "\n",
       "                                              overview cat1_result  result  \n",
       "9    약 50여개의 점포가 있는 골목형 시장이다. 시장 내에 개성 있는 인테리어의 카레전...          쇼핑    상설시장  \n",
       "16   부산 서구의 전통시장인 충무동 새벽시장은 부산 남항과 인접해 있다. 과거에는 새벽 ...          쇼핑    상설시장  \n",
       "56   서울 영등포구 대림동에 위치한 대림중앙시장은 한국속 작은 중국이라 불릴 정도로 조선...          쇼핑    상설시장  \n",
       "70   중앙유통단지는 공장에서 직접납품을 받아 판매하므로 중간단계의 운송비 및 물류비 절감...          쇼핑    전문상가  \n",
       "136  전면적의 82%가 산인 진안은 오늘날 전국에서 인삼이 가장 많이 생산되는 고장이다....          쇼핑  특산물판매점  "
      ]
     },
     "execution_count": 13,
     "metadata": {},
     "output_type": "execute_result"
    }
   ],
   "source": [
    "encoder = LabelEncoder()\n",
    "\n",
    "encoder.fit(train_6['cat3'])\n",
    "result_6 = encoder.inverse_transform(pred_arg)\n",
    "\n",
    "test_6['result'] = result_6\n",
    "test_6.head()"
   ]
  },
  {
   "cell_type": "code",
   "execution_count": 14,
   "id": "db31b58c",
   "metadata": {},
   "outputs": [],
   "source": [
    "test_6.to_csv('data/tset_cat3_6.csv', index=False, encoding='UTF8')"
   ]
  },
  {
   "cell_type": "code",
   "execution_count": 16,
   "id": "257a7ce8",
   "metadata": {},
   "outputs": [],
   "source": [
    "test_1 = pd.read_csv('data/tset_cat3_1.csv')\n",
    "test_2 = pd.read_csv('data/tset_cat3_2.csv')\n",
    "test_3 = pd.read_csv('data/tset_cat3_3.csv')\n",
    "test_4 = pd.read_csv('data/tset_cat3_4.csv')\n",
    "test_5 = pd.read_csv('data/tset_cat3_5.csv')\n",
    "test_6 = pd.read_csv('data/tset_cat3_6.csv')"
   ]
  },
  {
   "cell_type": "code",
   "execution_count": 20,
   "id": "865b9130",
   "metadata": {},
   "outputs": [],
   "source": [
    "result_df = pd.concat([test_1,test_2,test_3,test_4,test_5,test_6]).sort_values('id')"
   ]
  },
  {
   "cell_type": "code",
   "execution_count": 22,
   "id": "6b74280c",
   "metadata": {},
   "outputs": [
    {
     "data": {
      "text/html": [
       "<div>\n",
       "<style scoped>\n",
       "    .dataframe tbody tr th:only-of-type {\n",
       "        vertical-align: middle;\n",
       "    }\n",
       "\n",
       "    .dataframe tbody tr th {\n",
       "        vertical-align: top;\n",
       "    }\n",
       "\n",
       "    .dataframe thead th {\n",
       "        text-align: right;\n",
       "    }\n",
       "</style>\n",
       "<table border=\"1\" class=\"dataframe\">\n",
       "  <thead>\n",
       "    <tr style=\"text-align: right;\">\n",
       "      <th></th>\n",
       "      <th>id</th>\n",
       "      <th>img_path</th>\n",
       "      <th>overview</th>\n",
       "      <th>cat1_result</th>\n",
       "      <th>result</th>\n",
       "    </tr>\n",
       "  </thead>\n",
       "  <tbody>\n",
       "    <tr>\n",
       "      <th>0</th>\n",
       "      <td>TEST_00000</td>\n",
       "      <td>./image/test/TEST_00000.jpg</td>\n",
       "      <td>신선한 재료로 정성을 다해 만들었다. 늘 변함없는 맛과 서비스로 모실것을 약속한다.</td>\n",
       "      <td>음식</td>\n",
       "      <td>한식</td>\n",
       "    </tr>\n",
       "    <tr>\n",
       "      <th>1</th>\n",
       "      <td>TEST_00001</td>\n",
       "      <td>./image/test/TEST_00001.jpg</td>\n",
       "      <td>청청한 해역 등량만과 율포해수욕장이 한눈에 내려다 보이는 위치에 있으며, 막 잡은 ...</td>\n",
       "      <td>음식</td>\n",
       "      <td>일식</td>\n",
       "    </tr>\n",
       "    <tr>\n",
       "      <th>2</th>\n",
       "      <td>TEST_00002</td>\n",
       "      <td>./image/test/TEST_00002.jpg</td>\n",
       "      <td>장터설렁탕은 남녀노소 누구나 즐길 수 있는 전통 건강식으로 좋은 재료와 전통 조리방...</td>\n",
       "      <td>음식</td>\n",
       "      <td>한식</td>\n",
       "    </tr>\n",
       "    <tr>\n",
       "      <th>0</th>\n",
       "      <td>TEST_00003</td>\n",
       "      <td>./image/test/TEST_00003.jpg</td>\n",
       "      <td>다양한 형태의 청소년수련활동을 제공함으로써 청소년들이 민주사회의 주역이 될 수 있도...</td>\n",
       "      <td>레포츠</td>\n",
       "      <td>수련시설</td>\n",
       "    </tr>\n",
       "    <tr>\n",
       "      <th>0</th>\n",
       "      <td>TEST_00004</td>\n",
       "      <td>./image/test/TEST_00004.jpg</td>\n",
       "      <td>팔공산은 경산시의 북쪽에 위치한 해발 1192.3 m의 높은 산으로 신라시대에는 중...</td>\n",
       "      <td>자연</td>\n",
       "      <td>국립공원</td>\n",
       "    </tr>\n",
       "  </tbody>\n",
       "</table>\n",
       "</div>"
      ],
      "text/plain": [
       "           id                     img_path  \\\n",
       "0  TEST_00000  ./image/test/TEST_00000.jpg   \n",
       "1  TEST_00001  ./image/test/TEST_00001.jpg   \n",
       "2  TEST_00002  ./image/test/TEST_00002.jpg   \n",
       "0  TEST_00003  ./image/test/TEST_00003.jpg   \n",
       "0  TEST_00004  ./image/test/TEST_00004.jpg   \n",
       "\n",
       "                                            overview cat1_result result  \n",
       "0     신선한 재료로 정성을 다해 만들었다. 늘 변함없는 맛과 서비스로 모실것을 약속한다.          음식     한식  \n",
       "1  청청한 해역 등량만과 율포해수욕장이 한눈에 내려다 보이는 위치에 있으며, 막 잡은 ...          음식     일식  \n",
       "2  장터설렁탕은 남녀노소 누구나 즐길 수 있는 전통 건강식으로 좋은 재료와 전통 조리방...          음식     한식  \n",
       "0  다양한 형태의 청소년수련활동을 제공함으로써 청소년들이 민주사회의 주역이 될 수 있도...         레포츠   수련시설  \n",
       "0  팔공산은 경산시의 북쪽에 위치한 해발 1192.3 m의 높은 산으로 신라시대에는 중...          자연   국립공원  "
      ]
     },
     "execution_count": 22,
     "metadata": {},
     "output_type": "execute_result"
    }
   ],
   "source": [
    "result_df.head()"
   ]
  },
  {
   "cell_type": "code",
   "execution_count": 24,
   "id": "b911a890",
   "metadata": {},
   "outputs": [],
   "source": [
    "sub = pd.DataFrame({\n",
    "    'id': result_df['id'],\n",
    "    'cat3': result_df['result']\n",
    "})"
   ]
  },
  {
   "cell_type": "code",
   "execution_count": 26,
   "id": "6fc1286e",
   "metadata": {},
   "outputs": [
    {
     "data": {
      "text/html": [
       "<div>\n",
       "<style scoped>\n",
       "    .dataframe tbody tr th:only-of-type {\n",
       "        vertical-align: middle;\n",
       "    }\n",
       "\n",
       "    .dataframe tbody tr th {\n",
       "        vertical-align: top;\n",
       "    }\n",
       "\n",
       "    .dataframe thead th {\n",
       "        text-align: right;\n",
       "    }\n",
       "</style>\n",
       "<table border=\"1\" class=\"dataframe\">\n",
       "  <thead>\n",
       "    <tr style=\"text-align: right;\">\n",
       "      <th></th>\n",
       "      <th>id</th>\n",
       "      <th>cat3</th>\n",
       "    </tr>\n",
       "  </thead>\n",
       "  <tbody>\n",
       "    <tr>\n",
       "      <th>0</th>\n",
       "      <td>TEST_00000</td>\n",
       "      <td>한식</td>\n",
       "    </tr>\n",
       "    <tr>\n",
       "      <th>1</th>\n",
       "      <td>TEST_00001</td>\n",
       "      <td>일식</td>\n",
       "    </tr>\n",
       "    <tr>\n",
       "      <th>2</th>\n",
       "      <td>TEST_00002</td>\n",
       "      <td>한식</td>\n",
       "    </tr>\n",
       "    <tr>\n",
       "      <th>0</th>\n",
       "      <td>TEST_00003</td>\n",
       "      <td>수련시설</td>\n",
       "    </tr>\n",
       "    <tr>\n",
       "      <th>0</th>\n",
       "      <td>TEST_00004</td>\n",
       "      <td>국립공원</td>\n",
       "    </tr>\n",
       "    <tr>\n",
       "      <th>...</th>\n",
       "      <td>...</td>\n",
       "      <td>...</td>\n",
       "    </tr>\n",
       "    <tr>\n",
       "      <th>2106</th>\n",
       "      <td>TEST_07275</td>\n",
       "      <td>한식</td>\n",
       "    </tr>\n",
       "    <tr>\n",
       "      <th>2415</th>\n",
       "      <td>TEST_07276</td>\n",
       "      <td>공연장</td>\n",
       "    </tr>\n",
       "    <tr>\n",
       "      <th>1033</th>\n",
       "      <td>TEST_07277</td>\n",
       "      <td>야영장,오토캠핑장</td>\n",
       "    </tr>\n",
       "    <tr>\n",
       "      <th>614</th>\n",
       "      <td>TEST_07278</td>\n",
       "      <td>모텔</td>\n",
       "    </tr>\n",
       "    <tr>\n",
       "      <th>2416</th>\n",
       "      <td>TEST_07279</td>\n",
       "      <td>박물관</td>\n",
       "    </tr>\n",
       "  </tbody>\n",
       "</table>\n",
       "<p>7280 rows × 2 columns</p>\n",
       "</div>"
      ],
      "text/plain": [
       "              id       cat3\n",
       "0     TEST_00000         한식\n",
       "1     TEST_00001         일식\n",
       "2     TEST_00002         한식\n",
       "0     TEST_00003       수련시설\n",
       "0     TEST_00004       국립공원\n",
       "...          ...        ...\n",
       "2106  TEST_07275         한식\n",
       "2415  TEST_07276        공연장\n",
       "1033  TEST_07277  야영장,오토캠핑장\n",
       "614   TEST_07278         모텔\n",
       "2416  TEST_07279        박물관\n",
       "\n",
       "[7280 rows x 2 columns]"
      ]
     },
     "execution_count": 26,
     "metadata": {},
     "output_type": "execute_result"
    }
   ],
   "source": [
    "sub"
   ]
  },
  {
   "cell_type": "code",
   "execution_count": 27,
   "id": "348b093c",
   "metadata": {},
   "outputs": [],
   "source": [
    "sub.to_csv('submission/third_sub.csv', index=False, encoding='UTF8')"
   ]
  },
  {
   "cell_type": "code",
   "execution_count": null,
   "id": "7a100565",
   "metadata": {},
   "outputs": [],
   "source": []
  }
 ],
 "metadata": {
  "kernelspec": {
   "display_name": "tour",
   "language": "python",
   "name": "tour"
  },
  "language_info": {
   "codemirror_mode": {
    "name": "ipython",
    "version": 3
   },
   "file_extension": ".py",
   "mimetype": "text/x-python",
   "name": "python",
   "nbconvert_exporter": "python",
   "pygments_lexer": "ipython3",
   "version": "3.8.5"
  }
 },
 "nbformat": 4,
 "nbformat_minor": 5
}
