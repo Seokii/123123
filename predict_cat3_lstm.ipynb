{
 "cells": [
  {
   "cell_type": "code",
   "execution_count": 1,
   "id": "d9f1397b",
   "metadata": {},
   "outputs": [],
   "source": [
    "import pandas as pd\n",
    "import numpy as np\n",
    "import tensorflow as tf\n",
    "\n",
    "import matplotlib.pyplot as plt\n",
    "import seaborn as sns\n",
    "\n",
    "from collections import Counter\n",
    "from sklearn.model_selection import train_test_split\n",
    "from sklearn.preprocessing import LabelEncoder\n",
    "from konlpy.tag import Komoran"
   ]
  },
  {
   "cell_type": "code",
   "execution_count": 2,
   "id": "28289c68",
   "metadata": {},
   "outputs": [],
   "source": [
    "train = pd.read_csv(\"data/train.csv\")\n",
    "test = pd.read_csv(\"data/test.csv\")\n",
    "sub = pd.read_csv(\"data/sample_submission.csv\")"
   ]
  },
  {
   "cell_type": "code",
   "execution_count": 3,
   "id": "277fa083",
   "metadata": {},
   "outputs": [
    {
     "data": {
      "text/html": [
       "<div>\n",
       "<style scoped>\n",
       "    .dataframe tbody tr th:only-of-type {\n",
       "        vertical-align: middle;\n",
       "    }\n",
       "\n",
       "    .dataframe tbody tr th {\n",
       "        vertical-align: top;\n",
       "    }\n",
       "\n",
       "    .dataframe thead th {\n",
       "        text-align: right;\n",
       "    }\n",
       "</style>\n",
       "<table border=\"1\" class=\"dataframe\">\n",
       "  <thead>\n",
       "    <tr style=\"text-align: right;\">\n",
       "      <th></th>\n",
       "      <th>id</th>\n",
       "      <th>img_path</th>\n",
       "      <th>overview</th>\n",
       "      <th>cat1</th>\n",
       "      <th>cat2</th>\n",
       "      <th>cat3</th>\n",
       "    </tr>\n",
       "  </thead>\n",
       "  <tbody>\n",
       "    <tr>\n",
       "      <th>0</th>\n",
       "      <td>TRAIN_00000</td>\n",
       "      <td>./image/train/TRAIN_00000.jpg</td>\n",
       "      <td>소안항은 조용한 섬으로 인근해안이 청정해역으로 일찍이 김 양식을 해서 높은 소득을 ...</td>\n",
       "      <td>자연</td>\n",
       "      <td>자연관광지</td>\n",
       "      <td>항구/포구</td>\n",
       "    </tr>\n",
       "    <tr>\n",
       "      <th>1</th>\n",
       "      <td>TRAIN_00001</td>\n",
       "      <td>./image/train/TRAIN_00001.jpg</td>\n",
       "      <td>경기도 이천시 모가면에 있는 골프장으로 대중제 18홀이다. 회원제로 개장을 했다가 ...</td>\n",
       "      <td>레포츠</td>\n",
       "      <td>육상 레포츠</td>\n",
       "      <td>골프</td>\n",
       "    </tr>\n",
       "    <tr>\n",
       "      <th>2</th>\n",
       "      <td>TRAIN_00002</td>\n",
       "      <td>./image/train/TRAIN_00002.jpg</td>\n",
       "      <td>금오산성숯불갈비는 한우고기만을 전문적으로 취급하고 사용하는 부식 자재 또한 유기농법...</td>\n",
       "      <td>음식</td>\n",
       "      <td>음식점</td>\n",
       "      <td>한식</td>\n",
       "    </tr>\n",
       "    <tr>\n",
       "      <th>3</th>\n",
       "      <td>TRAIN_00003</td>\n",
       "      <td>./image/train/TRAIN_00003.jpg</td>\n",
       "      <td>철판 위에서 요리하는 안동찜닭을 맛볼 수 있는 곳이다. 경상북도 안동시에 있는 한식...</td>\n",
       "      <td>음식</td>\n",
       "      <td>음식점</td>\n",
       "      <td>한식</td>\n",
       "    </tr>\n",
       "    <tr>\n",
       "      <th>4</th>\n",
       "      <td>TRAIN_00004</td>\n",
       "      <td>./image/train/TRAIN_00004.jpg</td>\n",
       "      <td>※ 영업시간 10:30 ~ 20:30\\n\\n3대에 걸쳐 아귀만을 전문으로 취급하는 ...</td>\n",
       "      <td>음식</td>\n",
       "      <td>음식점</td>\n",
       "      <td>한식</td>\n",
       "    </tr>\n",
       "    <tr>\n",
       "      <th>...</th>\n",
       "      <td>...</td>\n",
       "      <td>...</td>\n",
       "      <td>...</td>\n",
       "      <td>...</td>\n",
       "      <td>...</td>\n",
       "      <td>...</td>\n",
       "    </tr>\n",
       "    <tr>\n",
       "      <th>16981</th>\n",
       "      <td>TRAIN_16981</td>\n",
       "      <td>./image/train/TRAIN_16981.jpg</td>\n",
       "      <td>해발 12000m에 자리한 식담겸 카페점문점이다.&lt;br&gt;곤드레밥과 감자전을 판매하고...</td>\n",
       "      <td>음식</td>\n",
       "      <td>음식점</td>\n",
       "      <td>한식</td>\n",
       "    </tr>\n",
       "    <tr>\n",
       "      <th>16982</th>\n",
       "      <td>TRAIN_16982</td>\n",
       "      <td>./image/train/TRAIN_16982.jpg</td>\n",
       "      <td>설악힐호텔은 동해고속도로 속초톨게이트에서 멀지 않은 관광로 변에 있다. 속초의 대표...</td>\n",
       "      <td>숙박</td>\n",
       "      <td>숙박시설</td>\n",
       "      <td>모텔</td>\n",
       "    </tr>\n",
       "    <tr>\n",
       "      <th>16983</th>\n",
       "      <td>TRAIN_16983</td>\n",
       "      <td>./image/train/TRAIN_16983.jpg</td>\n",
       "      <td>충남 서산시 중심가에 위치한 줌모텔은 프라이버스가 보장되는 조용한 공간으로 가치가 ...</td>\n",
       "      <td>숙박</td>\n",
       "      <td>숙박시설</td>\n",
       "      <td>모텔</td>\n",
       "    </tr>\n",
       "    <tr>\n",
       "      <th>16984</th>\n",
       "      <td>TRAIN_16984</td>\n",
       "      <td>./image/train/TRAIN_16984.jpg</td>\n",
       "      <td>토토큰바위캠핑장은 경기도 가평지역 내에서도 청정지역으로 손꼽히는 지역으로 주변에 화...</td>\n",
       "      <td>레포츠</td>\n",
       "      <td>육상 레포츠</td>\n",
       "      <td>야영장,오토캠핑장</td>\n",
       "    </tr>\n",
       "    <tr>\n",
       "      <th>16985</th>\n",
       "      <td>TRAIN_16985</td>\n",
       "      <td>./image/train/TRAIN_16985.jpg</td>\n",
       "      <td>포천의 진산으로 불리우는 왕방산(王訪山)에는 천년의 역사를 간직하고 있는 왕산사(王...</td>\n",
       "      <td>인문(문화/예술/역사)</td>\n",
       "      <td>역사관광지</td>\n",
       "      <td>사찰</td>\n",
       "    </tr>\n",
       "  </tbody>\n",
       "</table>\n",
       "<p>16986 rows × 6 columns</p>\n",
       "</div>"
      ],
      "text/plain": [
       "                id                       img_path  \\\n",
       "0      TRAIN_00000  ./image/train/TRAIN_00000.jpg   \n",
       "1      TRAIN_00001  ./image/train/TRAIN_00001.jpg   \n",
       "2      TRAIN_00002  ./image/train/TRAIN_00002.jpg   \n",
       "3      TRAIN_00003  ./image/train/TRAIN_00003.jpg   \n",
       "4      TRAIN_00004  ./image/train/TRAIN_00004.jpg   \n",
       "...            ...                            ...   \n",
       "16981  TRAIN_16981  ./image/train/TRAIN_16981.jpg   \n",
       "16982  TRAIN_16982  ./image/train/TRAIN_16982.jpg   \n",
       "16983  TRAIN_16983  ./image/train/TRAIN_16983.jpg   \n",
       "16984  TRAIN_16984  ./image/train/TRAIN_16984.jpg   \n",
       "16985  TRAIN_16985  ./image/train/TRAIN_16985.jpg   \n",
       "\n",
       "                                                overview          cat1  \\\n",
       "0      소안항은 조용한 섬으로 인근해안이 청정해역으로 일찍이 김 양식을 해서 높은 소득을 ...            자연   \n",
       "1      경기도 이천시 모가면에 있는 골프장으로 대중제 18홀이다. 회원제로 개장을 했다가 ...           레포츠   \n",
       "2      금오산성숯불갈비는 한우고기만을 전문적으로 취급하고 사용하는 부식 자재 또한 유기농법...            음식   \n",
       "3      철판 위에서 요리하는 안동찜닭을 맛볼 수 있는 곳이다. 경상북도 안동시에 있는 한식...            음식   \n",
       "4      ※ 영업시간 10:30 ~ 20:30\\n\\n3대에 걸쳐 아귀만을 전문으로 취급하는 ...            음식   \n",
       "...                                                  ...           ...   \n",
       "16981  해발 12000m에 자리한 식담겸 카페점문점이다.<br>곤드레밥과 감자전을 판매하고...            음식   \n",
       "16982  설악힐호텔은 동해고속도로 속초톨게이트에서 멀지 않은 관광로 변에 있다. 속초의 대표...            숙박   \n",
       "16983  충남 서산시 중심가에 위치한 줌모텔은 프라이버스가 보장되는 조용한 공간으로 가치가 ...            숙박   \n",
       "16984  토토큰바위캠핑장은 경기도 가평지역 내에서도 청정지역으로 손꼽히는 지역으로 주변에 화...           레포츠   \n",
       "16985  포천의 진산으로 불리우는 왕방산(王訪山)에는 천년의 역사를 간직하고 있는 왕산사(王...  인문(문화/예술/역사)   \n",
       "\n",
       "         cat2       cat3  \n",
       "0       자연관광지      항구/포구  \n",
       "1      육상 레포츠         골프  \n",
       "2         음식점         한식  \n",
       "3         음식점         한식  \n",
       "4         음식점         한식  \n",
       "...       ...        ...  \n",
       "16981     음식점         한식  \n",
       "16982    숙박시설         모텔  \n",
       "16983    숙박시설         모텔  \n",
       "16984  육상 레포츠  야영장,오토캠핑장  \n",
       "16985   역사관광지         사찰  \n",
       "\n",
       "[16986 rows x 6 columns]"
      ]
     },
     "metadata": {},
     "output_type": "display_data"
    }
   ],
   "source": [
    "display(train)"
   ]
  },
  {
   "cell_type": "code",
   "execution_count": 4,
   "id": "36d8616d",
   "metadata": {},
   "outputs": [
    {
     "data": {
      "text/html": [
       "<div>\n",
       "<style scoped>\n",
       "    .dataframe tbody tr th:only-of-type {\n",
       "        vertical-align: middle;\n",
       "    }\n",
       "\n",
       "    .dataframe tbody tr th {\n",
       "        vertical-align: top;\n",
       "    }\n",
       "\n",
       "    .dataframe thead th {\n",
       "        text-align: right;\n",
       "    }\n",
       "</style>\n",
       "<table border=\"1\" class=\"dataframe\">\n",
       "  <thead>\n",
       "    <tr style=\"text-align: right;\">\n",
       "      <th></th>\n",
       "      <th>id</th>\n",
       "      <th>img_path</th>\n",
       "      <th>overview</th>\n",
       "    </tr>\n",
       "  </thead>\n",
       "  <tbody>\n",
       "    <tr>\n",
       "      <th>0</th>\n",
       "      <td>TEST_00000</td>\n",
       "      <td>./image/test/TEST_00000.jpg</td>\n",
       "      <td>신선한 재료로 정성을 다해 만들었다. 늘 변함없는 맛과 서비스로 모실것을 약속한다.</td>\n",
       "    </tr>\n",
       "    <tr>\n",
       "      <th>1</th>\n",
       "      <td>TEST_00001</td>\n",
       "      <td>./image/test/TEST_00001.jpg</td>\n",
       "      <td>청청한 해역 등량만과 율포해수욕장이 한눈에 내려다 보이는 위치에 있으며, 막 잡은 ...</td>\n",
       "    </tr>\n",
       "    <tr>\n",
       "      <th>2</th>\n",
       "      <td>TEST_00002</td>\n",
       "      <td>./image/test/TEST_00002.jpg</td>\n",
       "      <td>장터설렁탕은 남녀노소 누구나 즐길 수 있는 전통 건강식으로 좋은 재료와 전통 조리방...</td>\n",
       "    </tr>\n",
       "    <tr>\n",
       "      <th>3</th>\n",
       "      <td>TEST_00003</td>\n",
       "      <td>./image/test/TEST_00003.jpg</td>\n",
       "      <td>다양한 형태의 청소년수련활동을 제공함으로써 청소년들이 민주사회의 주역이 될 수 있도...</td>\n",
       "    </tr>\n",
       "    <tr>\n",
       "      <th>4</th>\n",
       "      <td>TEST_00004</td>\n",
       "      <td>./image/test/TEST_00004.jpg</td>\n",
       "      <td>팔공산은 경산시의 북쪽에 위치한 해발 1192.3 m의 높은 산으로 신라시대에는 중...</td>\n",
       "    </tr>\n",
       "    <tr>\n",
       "      <th>...</th>\n",
       "      <td>...</td>\n",
       "      <td>...</td>\n",
       "      <td>...</td>\n",
       "    </tr>\n",
       "    <tr>\n",
       "      <th>7275</th>\n",
       "      <td>TEST_07275</td>\n",
       "      <td>./image/test/TEST_07275.jpg</td>\n",
       "      <td>막국수와 수육을 주메뉴로 하며, 넓은 주차장이 마련되어 있어 주차하기 편리하다.&lt;br&gt;</td>\n",
       "    </tr>\n",
       "    <tr>\n",
       "      <th>7276</th>\n",
       "      <td>TEST_07276</td>\n",
       "      <td>./image/test/TEST_07276.jpg</td>\n",
       "      <td>통진두레문화센터는 우리고유의 전통무형문화와 민속예술을 계승/발전 시키고, 다양한 문...</td>\n",
       "    </tr>\n",
       "    <tr>\n",
       "      <th>7277</th>\n",
       "      <td>TEST_07277</td>\n",
       "      <td>./image/test/TEST_07277.jpg</td>\n",
       "      <td>수도권에서 가까운 위치, 문산천을 따라 걷는 산책코스, 한여름 더위를 날려버릴 시원...</td>\n",
       "    </tr>\n",
       "    <tr>\n",
       "      <th>7278</th>\n",
       "      <td>TEST_07278</td>\n",
       "      <td>./image/test/TEST_07278.jpg</td>\n",
       "      <td>\\n전남 구례군 관산리에 위치한 노고단 게스트하우스&amp;호텔은 지리산을 파노라마로 관망...</td>\n",
       "    </tr>\n",
       "    <tr>\n",
       "      <th>7279</th>\n",
       "      <td>TEST_07279</td>\n",
       "      <td>./image/test/TEST_07279.jpg</td>\n",
       "      <td>서귀포 산방산과 중문 관광단지 사이에 있는 건강과성박물관은 7000㎡ 크기의 실내 ...</td>\n",
       "    </tr>\n",
       "  </tbody>\n",
       "</table>\n",
       "<p>7280 rows × 3 columns</p>\n",
       "</div>"
      ],
      "text/plain": [
       "              id                     img_path  \\\n",
       "0     TEST_00000  ./image/test/TEST_00000.jpg   \n",
       "1     TEST_00001  ./image/test/TEST_00001.jpg   \n",
       "2     TEST_00002  ./image/test/TEST_00002.jpg   \n",
       "3     TEST_00003  ./image/test/TEST_00003.jpg   \n",
       "4     TEST_00004  ./image/test/TEST_00004.jpg   \n",
       "...          ...                          ...   \n",
       "7275  TEST_07275  ./image/test/TEST_07275.jpg   \n",
       "7276  TEST_07276  ./image/test/TEST_07276.jpg   \n",
       "7277  TEST_07277  ./image/test/TEST_07277.jpg   \n",
       "7278  TEST_07278  ./image/test/TEST_07278.jpg   \n",
       "7279  TEST_07279  ./image/test/TEST_07279.jpg   \n",
       "\n",
       "                                               overview  \n",
       "0        신선한 재료로 정성을 다해 만들었다. 늘 변함없는 맛과 서비스로 모실것을 약속한다.  \n",
       "1     청청한 해역 등량만과 율포해수욕장이 한눈에 내려다 보이는 위치에 있으며, 막 잡은 ...  \n",
       "2     장터설렁탕은 남녀노소 누구나 즐길 수 있는 전통 건강식으로 좋은 재료와 전통 조리방...  \n",
       "3     다양한 형태의 청소년수련활동을 제공함으로써 청소년들이 민주사회의 주역이 될 수 있도...  \n",
       "4     팔공산은 경산시의 북쪽에 위치한 해발 1192.3 m의 높은 산으로 신라시대에는 중...  \n",
       "...                                                 ...  \n",
       "7275   막국수와 수육을 주메뉴로 하며, 넓은 주차장이 마련되어 있어 주차하기 편리하다.<br>  \n",
       "7276  통진두레문화센터는 우리고유의 전통무형문화와 민속예술을 계승/발전 시키고, 다양한 문...  \n",
       "7277  수도권에서 가까운 위치, 문산천을 따라 걷는 산책코스, 한여름 더위를 날려버릴 시원...  \n",
       "7278  \\n전남 구례군 관산리에 위치한 노고단 게스트하우스&호텔은 지리산을 파노라마로 관망...  \n",
       "7279  서귀포 산방산과 중문 관광단지 사이에 있는 건강과성박물관은 7000㎡ 크기의 실내 ...  \n",
       "\n",
       "[7280 rows x 3 columns]"
      ]
     },
     "metadata": {},
     "output_type": "display_data"
    }
   ],
   "source": [
    "display(test)"
   ]
  },
  {
   "cell_type": "code",
   "execution_count": 5,
   "id": "ee0d61b3",
   "metadata": {},
   "outputs": [
    {
     "data": {
      "text/html": [
       "<div>\n",
       "<style scoped>\n",
       "    .dataframe tbody tr th:only-of-type {\n",
       "        vertical-align: middle;\n",
       "    }\n",
       "\n",
       "    .dataframe tbody tr th {\n",
       "        vertical-align: top;\n",
       "    }\n",
       "\n",
       "    .dataframe thead th {\n",
       "        text-align: right;\n",
       "    }\n",
       "</style>\n",
       "<table border=\"1\" class=\"dataframe\">\n",
       "  <thead>\n",
       "    <tr style=\"text-align: right;\">\n",
       "      <th></th>\n",
       "      <th>id</th>\n",
       "      <th>cat3</th>\n",
       "    </tr>\n",
       "  </thead>\n",
       "  <tbody>\n",
       "    <tr>\n",
       "      <th>0</th>\n",
       "      <td>TEST_00000</td>\n",
       "      <td>한식</td>\n",
       "    </tr>\n",
       "    <tr>\n",
       "      <th>1</th>\n",
       "      <td>TEST_00001</td>\n",
       "      <td>한식</td>\n",
       "    </tr>\n",
       "    <tr>\n",
       "      <th>2</th>\n",
       "      <td>TEST_00002</td>\n",
       "      <td>한식</td>\n",
       "    </tr>\n",
       "    <tr>\n",
       "      <th>3</th>\n",
       "      <td>TEST_00003</td>\n",
       "      <td>한식</td>\n",
       "    </tr>\n",
       "    <tr>\n",
       "      <th>4</th>\n",
       "      <td>TEST_00004</td>\n",
       "      <td>한식</td>\n",
       "    </tr>\n",
       "    <tr>\n",
       "      <th>...</th>\n",
       "      <td>...</td>\n",
       "      <td>...</td>\n",
       "    </tr>\n",
       "    <tr>\n",
       "      <th>7275</th>\n",
       "      <td>TEST_07275</td>\n",
       "      <td>한식</td>\n",
       "    </tr>\n",
       "    <tr>\n",
       "      <th>7276</th>\n",
       "      <td>TEST_07276</td>\n",
       "      <td>한식</td>\n",
       "    </tr>\n",
       "    <tr>\n",
       "      <th>7277</th>\n",
       "      <td>TEST_07277</td>\n",
       "      <td>한식</td>\n",
       "    </tr>\n",
       "    <tr>\n",
       "      <th>7278</th>\n",
       "      <td>TEST_07278</td>\n",
       "      <td>한식</td>\n",
       "    </tr>\n",
       "    <tr>\n",
       "      <th>7279</th>\n",
       "      <td>TEST_07279</td>\n",
       "      <td>한식</td>\n",
       "    </tr>\n",
       "  </tbody>\n",
       "</table>\n",
       "<p>7280 rows × 2 columns</p>\n",
       "</div>"
      ],
      "text/plain": [
       "              id cat3\n",
       "0     TEST_00000   한식\n",
       "1     TEST_00001   한식\n",
       "2     TEST_00002   한식\n",
       "3     TEST_00003   한식\n",
       "4     TEST_00004   한식\n",
       "...          ...  ...\n",
       "7275  TEST_07275   한식\n",
       "7276  TEST_07276   한식\n",
       "7277  TEST_07277   한식\n",
       "7278  TEST_07278   한식\n",
       "7279  TEST_07279   한식\n",
       "\n",
       "[7280 rows x 2 columns]"
      ]
     },
     "metadata": {},
     "output_type": "display_data"
    }
   ],
   "source": [
    "display(sub)"
   ]
  },
  {
   "cell_type": "code",
   "execution_count": 6,
   "id": "569226cb",
   "metadata": {},
   "outputs": [
    {
     "data": {
      "text/plain": [
       "array(['자연', '레포츠', '음식', '인문(문화/예술/역사)', '숙박', '쇼핑'], dtype=object)"
      ]
     },
     "execution_count": 6,
     "metadata": {},
     "output_type": "execute_result"
    }
   ],
   "source": [
    "train['cat1'].unique()"
   ]
  },
  {
   "cell_type": "code",
   "execution_count": 7,
   "id": "83fb399c",
   "metadata": {},
   "outputs": [
    {
     "data": {
      "text/plain": [
       "array(['자연관광지', '육상 레포츠', '음식점', '축제', '역사관광지', '문화시설', '휴양관광지', '숙박시설',\n",
       "       '공연/행사', '쇼핑', '체험관광지', '복합 레포츠', '건축/조형물', '관광자원', '수상 레포츠',\n",
       "       '산업관광지', '항공 레포츠', '레포츠소개'], dtype=object)"
      ]
     },
     "execution_count": 7,
     "metadata": {},
     "output_type": "execute_result"
    }
   ],
   "source": [
    "train['cat2'].unique()"
   ]
  },
  {
   "cell_type": "code",
   "execution_count": 8,
   "id": "8c17a2e9",
   "metadata": {},
   "outputs": [
    {
     "data": {
      "text/plain": [
       "array(['항구/포구', '골프', '한식', '야영장,오토캠핑장', '섬', '일반축제', '유적지/사적지', '일식',\n",
       "       '자연휴양림', '전시관', '관광단지', '모텔', '스키(보드) 렌탈샵', '바/까페', '채식전문점',\n",
       "       '한옥스테이', '컨벤션', '성', '중식', '안보관광', '전문상가', '이색거리', '해수욕장', '5일장',\n",
       "       '미술관/화랑', '공원', '상설시장', '박물관', '도서관', '공연장', '농.산.어촌 체험', '복합 레포츠',\n",
       "       '펜션', '산', '기념탑/기념비/전망대', '기념관', '자동차경주', '자전거하이킹', '희귀동.식물',\n",
       "       '유명건물', '수목원', '유원지', '사찰', '강', '자연생태관광지', '박람회', '문화전수시설', '계곡',\n",
       "       '폭포', '서양식', '종교성지', '동상', '기타행사', '고택', '국립공원', '게스트하우스', '썰매장',\n",
       "       '요트', '문화원', '래프팅', '승마', '공예,공방', '트래킹', '온천/욕장/스파', '수련시설',\n",
       "       '해안절경', '패밀리레스토랑', '기암괴석', '기타', '홈스테이', '민물낚시', '콘도미니엄', '민박',\n",
       "       '테마공원', '유람선/잠수함관광', '바다낚시', '수영', '백화점', '호수', '카약/카누', '외국문화원',\n",
       "       '면세점', '다리/대교', '카지노', '분수', '동굴', '도립공원', '윈드서핑/제트스키', '특산물판매점',\n",
       "       '유스호스텔', '고궁', '서비스드레지던스', '민속마을', '전통공연', '문', '식음료', '번지점프',\n",
       "       '터널', '문화관광축제', '카트', '클럽', '발전소', '대중콘서트', 'MTB', '군립공원', '스케이트',\n",
       "       '대형서점', '생가', '스카이다이빙', '영화관', '헹글라이딩/패러글라이딩', '스노쿨링/스킨스쿠버다이빙',\n",
       "       '약수터', '인라인(실내 인라인 포함)', '이색찜질방', '학교', '헬스투어', '등대', '사격장', 'ATV',\n",
       "       '빙벽등반', '수상레포츠', '연극', '컨벤션센터', '스키/스노보드', '뮤지컬', '이색체험', '클래식음악회'],\n",
       "      dtype=object)"
      ]
     },
     "execution_count": 8,
     "metadata": {},
     "output_type": "execute_result"
    }
   ],
   "source": [
    "train['cat3'].unique()"
   ]
  },
  {
   "cell_type": "code",
   "execution_count": 9,
   "id": "02e4725c",
   "metadata": {},
   "outputs": [
    {
     "name": "stdout",
     "output_type": "stream",
     "text": [
      "number of cat1 : 6\n",
      "number of cat2 : 18\n",
      "number of cat3 : 128\n"
     ]
    }
   ],
   "source": [
    "print(f\"number of cat1 : {len(train['cat1'].unique())}\")\n",
    "print(f\"number of cat2 : {len(train['cat2'].unique())}\")\n",
    "print(f\"number of cat3 : {len(train['cat3'].unique())}\")"
   ]
  },
  {
   "cell_type": "code",
   "execution_count": 10,
   "id": "1ac16dce",
   "metadata": {},
   "outputs": [
    {
     "data": {
      "text/plain": [
       "0"
      ]
     },
     "execution_count": 10,
     "metadata": {},
     "output_type": "execute_result"
    }
   ],
   "source": [
    "train['overview'].isnull().sum()"
   ]
  },
  {
   "cell_type": "code",
   "execution_count": 11,
   "id": "3a6421db",
   "metadata": {},
   "outputs": [
    {
     "data": {
      "text/plain": [
       "13"
      ]
     },
     "execution_count": 11,
     "metadata": {},
     "output_type": "execute_result"
    }
   ],
   "source": [
    "train.duplicated(['overview']).sum()"
   ]
  },
  {
   "cell_type": "code",
   "execution_count": 12,
   "id": "1bb226e4",
   "metadata": {},
   "outputs": [
    {
     "data": {
      "text/plain": [
       "16976    돈너미 지역은 암회색 석회암층 위에 수십 개의 돌리네와 우발라, 대형 싱크홀이 분포...\n",
       "16977    양념족발로 유명한 가운데집은 전주 추천대교 인근에 위치한다. 일반 족발집보다는 다소...\n",
       "16978    경기 의왕시 오전동에 위치한 도래샘은 촌닭 불고기 쌈밥정식으로 유명한 백운호수 맛집...\n",
       "16979    * 체험으로 깨닫게 만드는 교육원, 부산광역시학생교육원<br /><br />부산의 ...\n",
       "16980    천관산을 남도의 명승지로 가꾸고자 나선 대덕읍민들이 매년 수천 그루씩의 단풍나무를 ...\n",
       "16981    해발 12000m에 자리한 식담겸 카페점문점이다.<br>곤드레밥과 감자전을 판매하고...\n",
       "16982    설악힐호텔은 동해고속도로 속초톨게이트에서 멀지 않은 관광로 변에 있다. 속초의 대표...\n",
       "16983    충남 서산시 중심가에 위치한 줌모텔은 프라이버스가 보장되는 조용한 공간으로 가치가 ...\n",
       "16984    토토큰바위캠핑장은 경기도 가평지역 내에서도 청정지역으로 손꼽히는 지역으로 주변에 화...\n",
       "16985    포천의 진산으로 불리우는 왕방산(王訪山)에는 천년의 역사를 간직하고 있는 왕산사(王...\n",
       "Name: overview, dtype: object"
      ]
     },
     "execution_count": 12,
     "metadata": {},
     "output_type": "execute_result"
    }
   ],
   "source": [
    "train['overview'].tail(10)"
   ]
  },
  {
   "cell_type": "code",
   "execution_count": 13,
   "id": "e916a026",
   "metadata": {},
   "outputs": [],
   "source": [
    "for i in range(len(train)):\n",
    "    train['overview'][i] = train['overview'][i].replace('\\n','').replace('\\t','').replace('\\r','').replace('<br>', '').replace('<br />','').replace('*','')\n",
    "    train['overview'][i] = train['overview'][i].strip()"
   ]
  },
  {
   "cell_type": "code",
   "execution_count": 14,
   "id": "e988271d",
   "metadata": {},
   "outputs": [
    {
     "data": {
      "text/plain": [
       "16976    돈너미 지역은 암회색 석회암층 위에 수십 개의 돌리네와 우발라, 대형 싱크홀이 분포...\n",
       "16977    양념족발로 유명한 가운데집은 전주 추천대교 인근에 위치한다. 일반 족발집보다는 다소...\n",
       "16978    경기 의왕시 오전동에 위치한 도래샘은 촌닭 불고기 쌈밥정식으로 유명한 백운호수 맛집...\n",
       "16979    체험으로 깨닫게 만드는 교육원, 부산광역시학생교육원부산의 진산 금정산(해발 801....\n",
       "16980    천관산을 남도의 명승지로 가꾸고자 나선 대덕읍민들이 매년 수천 그루씩의 단풍나무를 ...\n",
       "16981       해발 12000m에 자리한 식담겸 카페점문점이다.곤드레밥과 감자전을 판매하고 있다.\n",
       "16982    설악힐호텔은 동해고속도로 속초톨게이트에서 멀지 않은 관광로 변에 있다. 속초의 대표...\n",
       "16983    충남 서산시 중심가에 위치한 줌모텔은 프라이버스가 보장되는 조용한 공간으로 가치가 ...\n",
       "16984    토토큰바위캠핑장은 경기도 가평지역 내에서도 청정지역으로 손꼽히는 지역으로 주변에 화...\n",
       "16985    포천의 진산으로 불리우는 왕방산(王訪山)에는 천년의 역사를 간직하고 있는 왕산사(王...\n",
       "Name: overview, dtype: object"
      ]
     },
     "execution_count": 14,
     "metadata": {},
     "output_type": "execute_result"
    }
   ],
   "source": [
    "train['overview'].tail(10)"
   ]
  },
  {
   "cell_type": "code",
   "execution_count": 15,
   "id": "f1e8b383",
   "metadata": {},
   "outputs": [],
   "source": [
    "encoder = LabelEncoder()\n",
    "\n",
    "encoder.fit(train['cat3'])\n",
    "train['cat3'] = encoder.transform(train['cat3'])"
   ]
  },
  {
   "cell_type": "code",
   "execution_count": 16,
   "id": "4b2216aa",
   "metadata": {},
   "outputs": [
    {
     "data": {
      "text/plain": [
       "0        120\n",
       "1          8\n",
       "2        118\n",
       "3        118\n",
       "4        118\n",
       "        ... \n",
       "16981    118\n",
       "16982     31\n",
       "16983     31\n",
       "16984     73\n",
       "16985     52\n",
       "Name: cat3, Length: 16986, dtype: int32"
      ]
     },
     "execution_count": 16,
     "metadata": {},
     "output_type": "execute_result"
    }
   ],
   "source": [
    "train['cat3']"
   ]
  },
  {
   "cell_type": "code",
   "execution_count": 17,
   "id": "6e69f402",
   "metadata": {},
   "outputs": [
    {
     "name": "stdout",
     "output_type": "stream",
     "text": [
      "['5일장' 'ATV' 'MTB' '강' '게스트하우스' '계곡' '고궁' '고택' '골프' '공연장' '공예,공방' '공원'\n",
      " '관광단지' '국립공원' '군립공원' '기념관' '기념탑/기념비/전망대' '기암괴석' '기타' '기타행사' '농.산.어촌 체험'\n",
      " '다리/대교' '대중콘서트' '대형서점' '도립공원' '도서관' '동굴' '동상' '등대' '래프팅' '면세점' '모텔' '문'\n",
      " '문화관광축제' '문화원' '문화전수시설' '뮤지컬' '미술관/화랑' '민물낚시' '민박' '민속마을' '바/까페' '바다낚시'\n",
      " '박람회' '박물관' '발전소' '백화점' '번지점프' '복합 레포츠' '분수' '빙벽등반' '사격장' '사찰' '산' '상설시장'\n",
      " '생가' '서비스드레지던스' '서양식' '섬' '성' '수련시설' '수목원' '수상레포츠' '수영' '스노쿨링/스킨스쿠버다이빙'\n",
      " '스카이다이빙' '스케이트' '스키(보드) 렌탈샵' '스키/스노보드' '승마' '식음료' '썰매장' '안보관광'\n",
      " '야영장,오토캠핑장' '약수터' '연극' '영화관' '온천/욕장/스파' '외국문화원' '요트' '윈드서핑/제트스키'\n",
      " '유람선/잠수함관광' '유명건물' '유스호스텔' '유원지' '유적지/사적지' '이색거리' '이색찜질방' '이색체험'\n",
      " '인라인(실내 인라인 포함)' '일반축제' '일식' '자동차경주' '자연생태관광지' '자연휴양림' '자전거하이킹' '전문상가'\n",
      " '전시관' '전통공연' '종교성지' '중식' '채식전문점' '카약/카누' '카지노' '카트' '컨벤션' '컨벤션센터' '콘도미니엄'\n",
      " '클래식음악회' '클럽' '터널' '테마공원' '트래킹' '특산물판매점' '패밀리레스토랑' '펜션' '폭포' '학교' '한식'\n",
      " '한옥스테이' '항구/포구' '해수욕장' '해안절경' '헬스투어' '헹글라이딩/패러글라이딩' '호수' '홈스테이' '희귀동.식물']\n"
     ]
    }
   ],
   "source": [
    "print(encoder.classes_)"
   ]
  },
  {
   "cell_type": "code",
   "execution_count": 18,
   "id": "2602ea0d",
   "metadata": {
    "scrolled": true
   },
   "outputs": [
    {
     "data": {
      "text/plain": [
       "128"
      ]
     },
     "execution_count": 18,
     "metadata": {},
     "output_type": "execute_result"
    }
   ],
   "source": [
    "len(encoder.classes_)"
   ]
  },
  {
   "cell_type": "code",
   "execution_count": 19,
   "id": "7d2cc593",
   "metadata": {},
   "outputs": [],
   "source": [
    "tokenizer = Komoran()\n",
    "\n",
    "def preprocess(train):\n",
    "    train.drop_duplicates(subset=['overview'], inplace=True)\n",
    "    train = train.dropna()\n",
    "    print(f\"train shape => {train.shape}\")\n",
    "    \n",
    "    train_tokenized = [[token+\"/\"+POS for token, POS in tokenizer.pos(doc_)] for doc_ in train['overview']]\n",
    "    \n",
    "    exclusion_tags = ['JKS', 'JKC', 'JKG', 'JKO', 'JKB', 'JKV', 'JKQ', 'JX', 'JC',\n",
    "                      'SF', 'SP', 'SS', 'SE', 'SO', 'EF', 'EP', 'EC', 'ETN', 'ETM',\n",
    "                      'XSN', 'XSV', 'XSA']\n",
    "    \n",
    "    f = lambda x: x in exclusion_tags\n",
    "    \n",
    "    X_train = []\n",
    "    for i in range(len(train_tokenized)):\n",
    "        temp = []\n",
    "        for j in range(len(train_tokenized[i])):\n",
    "            if f(train_tokenized[i][j].split('/')[1]) is False:\n",
    "                temp.append(train_tokenized[i][j].split('/')[0])\n",
    "        X_train.append(temp)\n",
    "    \n",
    "    words = np.concatenate(X_train).tolist()\n",
    "    counter = Counter(words)\n",
    "    counter = counter.most_common(30000-4)\n",
    "    vocab = ['<PAD>', '<BOS>', '<UNK>', '<UNUSED>'] + [key for key, _ in counter]\n",
    "    word_to_index = {word:index for index, word in enumerate(vocab)}\n",
    "    \n",
    "    def wordlist_to_indexlist(wordlist):\n",
    "        return [word_to_index[word] if word in word_to_index else word_to_index['<UNK>'] for word in wordlist]\n",
    "    \n",
    "    X_train = list(map(wordlist_to_indexlist, X_train))\n",
    "    \n",
    "    return X_train, np.array(list(train['cat3'])), word_to_index"
   ]
  },
  {
   "cell_type": "code",
   "execution_count": 20,
   "id": "67f3719a",
   "metadata": {},
   "outputs": [
    {
     "name": "stdout",
     "output_type": "stream",
     "text": [
      "train shape => (16973, 6)\n"
     ]
    }
   ],
   "source": [
    "train_, label_, word_to_index = preprocess(train)"
   ]
  },
  {
   "cell_type": "code",
   "execution_count": 21,
   "id": "b482fe8a",
   "metadata": {},
   "outputs": [
    {
     "data": {
      "text/plain": [
       "30000"
      ]
     },
     "execution_count": 21,
     "metadata": {},
     "output_type": "execute_result"
    }
   ],
   "source": [
    "len(word_to_index)"
   ]
  },
  {
   "cell_type": "code",
   "execution_count": 24,
   "id": "cc44f30c",
   "metadata": {},
   "outputs": [
    {
     "data": {
      "text/plain": [
       "array([120,   8, 118, ...,  31,  73,  52])"
      ]
     },
     "execution_count": 24,
     "metadata": {},
     "output_type": "execute_result"
    }
   ],
   "source": [
    "label_"
   ]
  },
  {
   "cell_type": "code",
   "execution_count": 25,
   "id": "05db9d4c",
   "metadata": {},
   "outputs": [
    {
     "name": "stdout",
     "output_type": "stream",
     "text": [
      "토큰 길이 평균: 94.5287810051258\n",
      "토큰 길이 최대: 2324\n",
      "토큰 길이 표준편차: 79.36690859447168\n",
      "설정 최대 길이: 253\n",
      "전체 문장의 0.9619984681553054%가 설정값인 253에 포함됩니다.\n"
     ]
    }
   ],
   "source": [
    "num_tokens = [len(tokens) for tokens in train_]\n",
    "num_tokens = np.array(num_tokens)\n",
    "\n",
    "# 평균값, 최댓값, 표준편차\n",
    "print(f\"토큰 길이 평균: {np.mean(num_tokens)}\")\n",
    "print(f\"토큰 길이 최대: {np.max(num_tokens)}\")\n",
    "print(f\"토큰 길이 표준편차: {np.std(num_tokens)}\")\n",
    "\n",
    "max_tokens = np.mean(num_tokens) + 2 * np.std(num_tokens)\n",
    "maxlen = int(max_tokens)\n",
    "print(f'설정 최대 길이: {maxlen}')\n",
    "print(f'전체 문장의 {np.sum(num_tokens < max_tokens) / len(num_tokens)}%가 설정값인 {maxlen}에 포함됩니다.')"
   ]
  },
  {
   "cell_type": "code",
   "execution_count": 26,
   "id": "68a60daf",
   "metadata": {},
   "outputs": [
    {
     "data": {
      "text/plain": [
       "16973"
      ]
     },
     "execution_count": 26,
     "metadata": {},
     "output_type": "execute_result"
    }
   ],
   "source": [
    "len(train_)"
   ]
  },
  {
   "cell_type": "code",
   "execution_count": 27,
   "id": "d275c620",
   "metadata": {},
   "outputs": [],
   "source": [
    "select_length = 250"
   ]
  },
  {
   "cell_type": "code",
   "execution_count": 28,
   "id": "381f91b9",
   "metadata": {},
   "outputs": [],
   "source": [
    "temp = []\n",
    "for i in range(len(train_)):\n",
    "    if len(train_[i]) > select_length:\n",
    "        temp.append(i)\n",
    "\n",
    "temp.reverse()\n",
    "\n",
    "for i in temp:\n",
    "    train.drop(train.index[i], inplace=True)"
   ]
  },
  {
   "cell_type": "code",
   "execution_count": 29,
   "id": "65aec8f9",
   "metadata": {
    "scrolled": true
   },
   "outputs": [
    {
     "data": {
      "text/plain": [
       "16310"
      ]
     },
     "execution_count": 29,
     "metadata": {},
     "output_type": "execute_result"
    }
   ],
   "source": [
    "len(train)"
   ]
  },
  {
   "cell_type": "code",
   "execution_count": 30,
   "id": "0bbe3340",
   "metadata": {},
   "outputs": [
    {
     "name": "stdout",
     "output_type": "stream",
     "text": [
      "train shape => (16310, 6)\n"
     ]
    }
   ],
   "source": [
    "train_, label_, word_to_index = preprocess(train)"
   ]
  },
  {
   "cell_type": "code",
   "execution_count": 31,
   "id": "67f8b774",
   "metadata": {},
   "outputs": [
    {
     "name": "stdout",
     "output_type": "stream",
     "text": [
      "토큰 길이 평균: 83.55144083384427\n",
      "토큰 길이 최대: 250\n",
      "토큰 길이 표준편차: 49.83794359495982\n"
     ]
    }
   ],
   "source": [
    "num_tokens = [len(tokens) for tokens in train_]\n",
    "num_tokens = np.array(num_tokens)\n",
    "\n",
    "# 평균값, 최댓값, 표준편차\n",
    "print(f\"토큰 길이 평균: {np.mean(num_tokens)}\")\n",
    "print(f\"토큰 길이 최대: {np.max(num_tokens)}\")\n",
    "print(f\"토큰 길이 표준편차: {np.std(num_tokens)}\")"
   ]
  },
  {
   "cell_type": "code",
   "execution_count": 32,
   "id": "21c6391e",
   "metadata": {},
   "outputs": [
    {
     "data": {
      "image/png": "[encoded data removed]",
      "text/plain": [
       "<Figure size 432x288 with 1 Axes>"
      ]
     },
     "metadata": {},
     "output_type": "display_data"
    }
   ],
   "source": [
    "sns.set_theme(style=\"darkgrid\")\n",
    "plt.title('all text length')\n",
    "plt.hist(num_tokens, bins=50)\n",
    "plt.xlabel('length of samples')\n",
    "plt.ylabel('number of samples')\n",
    "plt.show()"
   ]
  },
  {
   "cell_type": "code",
   "execution_count": 33,
   "id": "70fd63a1",
   "metadata": {},
   "outputs": [],
   "source": [
    "train_ = tf.keras.preprocessing.sequence.pad_sequences(train_,\n",
    "                                                       padding='pre',\n",
    "                                                       value=word_to_index[\"<PAD>\"],\n",
    "                                                       maxlen=250)"
   ]
  },
  {
   "cell_type": "code",
   "execution_count": 38,
   "id": "2303e2d9",
   "metadata": {},
   "outputs": [
    {
     "name": "stdout",
     "output_type": "stream",
     "text": [
      "Model: \"sequential_1\"\n",
      "_________________________________________________________________\n",
      "Layer (type)                 Output Shape              Param #   \n",
      "=================================================================\n",
      "embedding_1 (Embedding)      (None, None, 16)          480000    \n",
      "_________________________________________________________________\n",
      "lstm_1 (LSTM)                (None, 256)               279552    \n",
      "_________________________________________________________________\n",
      "dense_1 (Dense)              (None, 128)               32896     \n",
      "=================================================================\n",
      "Total params: 792,448\n",
      "Trainable params: 792,448\n",
      "Non-trainable params: 0\n",
      "_________________________________________________________________\n"
     ]
    }
   ],
   "source": [
    "vocab_size = 30000\n",
    "word_vector_dim = 16\n",
    "\n",
    "model = tf.keras.Sequential()\n",
    "model.add(tf.keras.layers.Embedding(vocab_size, word_vector_dim, input_shape=(None,)))\n",
    "model.add(tf.keras.layers.LSTM(units=256))\n",
    "model.add(tf.keras.layers.Dense(128, activation='softmax'))\n",
    "\n",
    "model.compile(optimizer='adam', loss='sparse_categorical_crossentropy', metrics=['accuracy'])\n",
    "model.summary()"
   ]
  },
  {
   "cell_type": "code",
   "execution_count": 39,
   "id": "29c4a366",
   "metadata": {},
   "outputs": [],
   "source": [
    "X_train, X_val, y_train, y_val = train_test_split(train_, label_, test_size=0.2, shuffle=True,\n",
    "                                                  stratify=label_, random_state=777)"
   ]
  },
  {
   "cell_type": "code",
   "execution_count": 40,
   "id": "c95601a9",
   "metadata": {},
   "outputs": [
    {
     "name": "stdout",
     "output_type": "stream",
     "text": [
      "Epoch 1/50\n",
      "26/26 [==============================] - 3s 81ms/step - loss: 4.0371 - accuracy: 0.1860 - val_loss: 3.6672 - val_accuracy: 0.2103\n",
      "Epoch 2/50\n",
      "26/26 [==============================] - 1s 49ms/step - loss: 3.6673 - accuracy: 0.2102 - val_loss: 3.6488 - val_accuracy: 0.2103\n",
      "Epoch 3/50\n",
      "26/26 [==============================] - 1s 49ms/step - loss: 3.6533 - accuracy: 0.2102 - val_loss: 3.6369 - val_accuracy: 0.2103\n",
      "Epoch 4/50\n",
      "26/26 [==============================] - 1s 49ms/step - loss: 3.6361 - accuracy: 0.2102 - val_loss: 3.6104 - val_accuracy: 0.2103\n",
      "Epoch 5/50\n",
      "26/26 [==============================] - 1s 49ms/step - loss: 3.5707 - accuracy: 0.2163 - val_loss: 3.4596 - val_accuracy: 0.2508\n",
      "Epoch 6/50\n",
      "26/26 [==============================] - 2s 60ms/step - loss: 3.2743 - accuracy: 0.2801 - val_loss: 3.1360 - val_accuracy: 0.2857\n",
      "Epoch 7/50\n",
      "26/26 [==============================] - 1s 49ms/step - loss: 3.0556 - accuracy: 0.3072 - val_loss: 2.9872 - val_accuracy: 0.3133\n",
      "Epoch 8/50\n",
      "26/26 [==============================] - 1s 49ms/step - loss: 2.8616 - accuracy: 0.3341 - val_loss: 2.9110 - val_accuracy: 0.3130\n",
      "Epoch 9/50\n",
      "26/26 [==============================] - 1s 50ms/step - loss: 3.1906 - accuracy: 0.2377 - val_loss: 3.0132 - val_accuracy: 0.2952\n",
      "Epoch 10/50\n",
      "26/26 [==============================] - 1s 50ms/step - loss: 2.8460 - accuracy: 0.3228 - val_loss: 2.7892 - val_accuracy: 0.3381\n",
      "Epoch 11/50\n",
      "26/26 [==============================] - 1s 49ms/step - loss: 2.6368 - accuracy: 0.3562 - val_loss: 2.7619 - val_accuracy: 0.3219\n",
      "Epoch 12/50\n",
      "26/26 [==============================] - 1s 49ms/step - loss: 2.5470 - accuracy: 0.3729 - val_loss: 2.7539 - val_accuracy: 0.3449\n",
      "Epoch 13/50\n",
      "26/26 [==============================] - 1s 49ms/step - loss: 2.5266 - accuracy: 0.3703 - val_loss: 2.7004 - val_accuracy: 0.3495\n",
      "Epoch 14/50\n",
      "26/26 [==============================] - 1s 50ms/step - loss: 2.4363 - accuracy: 0.3861 - val_loss: 2.6969 - val_accuracy: 0.3633\n",
      "Epoch 15/50\n",
      "26/26 [==============================] - 1s 49ms/step - loss: 2.2953 - accuracy: 0.4165 - val_loss: 2.5975 - val_accuracy: 0.3795\n",
      "Epoch 16/50\n",
      "26/26 [==============================] - 1s 49ms/step - loss: 2.1634 - accuracy: 0.4526 - val_loss: 2.5497 - val_accuracy: 0.3927\n",
      "Epoch 17/50\n",
      "26/26 [==============================] - 1s 50ms/step - loss: 2.0469 - accuracy: 0.4754 - val_loss: 2.5290 - val_accuracy: 0.4077\n",
      "Epoch 18/50\n",
      "26/26 [==============================] - 1s 49ms/step - loss: 2.0036 - accuracy: 0.4758 - val_loss: 2.4891 - val_accuracy: 0.4080\n",
      "Epoch 19/50\n",
      "26/26 [==============================] - 1s 50ms/step - loss: 1.8963 - accuracy: 0.5032 - val_loss: 2.5690 - val_accuracy: 0.4080\n",
      "Epoch 20/50\n",
      "26/26 [==============================] - 1s 49ms/step - loss: 1.8475 - accuracy: 0.5112 - val_loss: 2.5411 - val_accuracy: 0.4231\n",
      "Epoch 21/50\n",
      "26/26 [==============================] - 1s 50ms/step - loss: 1.7552 - accuracy: 0.5318 - val_loss: 2.5162 - val_accuracy: 0.4258\n",
      "Epoch 22/50\n",
      "26/26 [==============================] - 1s 49ms/step - loss: 1.6871 - accuracy: 0.5446 - val_loss: 2.5276 - val_accuracy: 0.4255\n",
      "Epoch 23/50\n",
      "26/26 [==============================] - 1s 49ms/step - loss: 1.6402 - accuracy: 0.5523 - val_loss: 2.5875 - val_accuracy: 0.4289\n",
      "Epoch 24/50\n",
      "26/26 [==============================] - 1s 49ms/step - loss: 1.5892 - accuracy: 0.5655 - val_loss: 2.5206 - val_accuracy: 0.4448\n",
      "Epoch 25/50\n",
      "26/26 [==============================] - 1s 49ms/step - loss: 1.4959 - accuracy: 0.5901 - val_loss: 2.5378 - val_accuracy: 0.4433\n",
      "Epoch 26/50\n",
      "26/26 [==============================] - 1s 50ms/step - loss: 1.4000 - accuracy: 0.6138 - val_loss: 2.5785 - val_accuracy: 0.4402\n",
      "Epoch 27/50\n",
      "26/26 [==============================] - 1s 49ms/step - loss: 1.3447 - accuracy: 0.6296 - val_loss: 2.5973 - val_accuracy: 0.4460\n",
      "Epoch 28/50\n",
      "26/26 [==============================] - 1s 50ms/step - loss: 1.3166 - accuracy: 0.6379 - val_loss: 2.7492 - val_accuracy: 0.4261\n",
      "Epoch 29/50\n",
      "26/26 [==============================] - 1s 49ms/step - loss: 1.4159 - accuracy: 0.6035 - val_loss: 2.5994 - val_accuracy: 0.4424\n",
      "Epoch 30/50\n",
      "26/26 [==============================] - 1s 49ms/step - loss: 1.2894 - accuracy: 0.6442 - val_loss: 2.6569 - val_accuracy: 0.4427\n",
      "Epoch 31/50\n",
      "26/26 [==============================] - 1s 49ms/step - loss: 1.2009 - accuracy: 0.6684 - val_loss: 2.6381 - val_accuracy: 0.4506\n",
      "Epoch 32/50\n",
      "26/26 [==============================] - 1s 50ms/step - loss: 1.1014 - accuracy: 0.6924 - val_loss: 2.7208 - val_accuracy: 0.4424\n",
      "Epoch 33/50\n",
      "26/26 [==============================] - 1s 49ms/step - loss: 1.1072 - accuracy: 0.6868 - val_loss: 2.6975 - val_accuracy: 0.4534\n",
      "Epoch 34/50\n",
      "26/26 [==============================] - 1s 49ms/step - loss: 1.0154 - accuracy: 0.7156 - val_loss: 2.7564 - val_accuracy: 0.4537\n",
      "Epoch 35/50\n",
      "26/26 [==============================] - 1s 49ms/step - loss: 0.9759 - accuracy: 0.7288 - val_loss: 2.7712 - val_accuracy: 0.4562\n",
      "Epoch 36/50\n",
      "26/26 [==============================] - 1s 49ms/step - loss: 0.9176 - accuracy: 0.7395 - val_loss: 2.8123 - val_accuracy: 0.4485\n",
      "Epoch 37/50\n",
      "26/26 [==============================] - 1s 49ms/step - loss: 0.9384 - accuracy: 0.7330 - val_loss: 2.8683 - val_accuracy: 0.4562\n",
      "Epoch 38/50\n",
      "26/26 [==============================] - 1s 49ms/step - loss: 0.8685 - accuracy: 0.7538 - val_loss: 2.8662 - val_accuracy: 0.4586\n",
      "Epoch 39/50\n",
      "26/26 [==============================] - 1s 49ms/step - loss: 1.6061 - accuracy: 0.5711 - val_loss: 2.7056 - val_accuracy: 0.4316\n",
      "Epoch 40/50\n",
      "26/26 [==============================] - 1s 50ms/step - loss: 1.1231 - accuracy: 0.6929 - val_loss: 2.6425 - val_accuracy: 0.4629\n",
      "Epoch 41/50\n",
      "26/26 [==============================] - 1s 50ms/step - loss: 0.9143 - accuracy: 0.7517 - val_loss: 2.7266 - val_accuracy: 0.4660\n",
      "Epoch 42/50\n",
      "26/26 [==============================] - 1s 49ms/step - loss: 0.8121 - accuracy: 0.7787 - val_loss: 2.8224 - val_accuracy: 0.4681\n",
      "Epoch 43/50\n",
      "26/26 [==============================] - 1s 49ms/step - loss: 0.7533 - accuracy: 0.7945 - val_loss: 2.9189 - val_accuracy: 0.4623\n",
      "Epoch 44/50\n",
      "26/26 [==============================] - 1s 49ms/step - loss: 0.6971 - accuracy: 0.8079 - val_loss: 2.9094 - val_accuracy: 0.4742\n",
      "Epoch 45/50\n",
      "26/26 [==============================] - 1s 50ms/step - loss: 0.6666 - accuracy: 0.8160 - val_loss: 2.9891 - val_accuracy: 0.4654\n",
      "Epoch 46/50\n",
      "26/26 [==============================] - 1s 49ms/step - loss: 0.6492 - accuracy: 0.8192 - val_loss: 3.0541 - val_accuracy: 0.4641\n",
      "Epoch 47/50\n",
      "26/26 [==============================] - 1s 50ms/step - loss: 0.6415 - accuracy: 0.8197 - val_loss: 3.0213 - val_accuracy: 0.4669\n",
      "Epoch 48/50\n",
      "26/26 [==============================] - 1s 49ms/step - loss: 0.5861 - accuracy: 0.8345 - val_loss: 3.0540 - val_accuracy: 0.4611\n",
      "Epoch 49/50\n",
      "26/26 [==============================] - 1s 49ms/step - loss: 0.5763 - accuracy: 0.8416 - val_loss: 3.0952 - val_accuracy: 0.4654\n",
      "Epoch 50/50\n",
      "26/26 [==============================] - 1s 49ms/step - loss: 0.5327 - accuracy: 0.8537 - val_loss: 3.1463 - val_accuracy: 0.4592\n"
     ]
    }
   ],
   "source": [
    "history = model.fit(X_train, y_train, epochs=50, batch_size=512,\n",
    "                    validation_data=(X_val, y_val), verbose=1)"
   ]
  },
  {
   "cell_type": "code",
   "execution_count": 41,
   "id": "82242014",
   "metadata": {},
   "outputs": [
    {
     "data": {
      "image/png": "[encoded data removed]",
      "text/plain": [
       "<Figure size 432x288 with 1 Axes>"
      ]
     },
     "metadata": {},
     "output_type": "display_data"
    }
   ],
   "source": [
    "plt.plot(history.history['loss'], label='train')\n",
    "plt.plot(history.history['val_loss'], label='test')\n",
    "plt.legend()\n",
    "plt.show()"
   ]
  },
  {
   "cell_type": "code",
   "execution_count": null,
   "id": "d1d79f0a",
   "metadata": {},
   "outputs": [],
   "source": []
  }
 ],
 "metadata": {
  "kernelspec": {
   "display_name": "Python 3 (ipykernel)",
   "language": "python",
   "name": "python3"
  },
  "language_info": {
   "codemirror_mode": {
    "name": "ipython",
    "version": 3
   },
   "file_extension": ".py",
   "mimetype": "text/x-python",
   "name": "python",
   "nbconvert_exporter": "python",
   "pygments_lexer": "ipython3",
   "version": "3.8.5"
  }
 },
 "nbformat": 4,
 "nbformat_minor": 5
}
